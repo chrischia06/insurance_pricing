{
 "cells": [
  {
   "cell_type": "markdown",
   "metadata": {},
   "source": [
    "# Naive bayes"
   ]
  },
  {
   "cell_type": "code",
   "execution_count": null,
   "metadata": {},
   "outputs": [],
   "source": [
    "from sklearn.naive_bayes import BernoulliNB,ComplementNB,CategoricalNB,GaussianNB\n",
    "from sklearn.metrics import confusion_matrix, f1_score\n",
    "bnb = ComplementNB(class_prior=[0.5,0.5])\n",
    "# bnb = GaussianNB(priors=[0.8,0.2])\n",
    "\n",
    "booleanFeatures2 = ['pol_payd','Maxi', 'Median1', 'Median2', 'Mini','tourism','drv_drv2','Monthly','vh_age','vh_value']\n",
    "booleanFeatures2=['order_pol_coverage']\n",
    "bnb.fit(X4,y1)\n",
    "\n",
    "print(bnb.score(X4,y1)) # accuracy - 0.6396170561189142\n",
    "preds = bnb.predict_proba()\n",
    "print(f1_score(y1,bnb.predict(X4))) #f1 - 0.21801284679513463 - GaussianNB\n",
    "\n",
    "confusion_matrix(y1,bnb.predict(X4))\n",
    "\n"
   ]
  },
  {
   "cell_type": "markdown",
   "metadata": {},
   "source": [
    "# Quadratic/Linear Discriminant Analysis"
   ]
  },
  {
   "cell_type": "code",
   "execution_count": null,
   "metadata": {},
   "outputs": [],
   "source": [
    "from sklearn.metrics import f1_score, confusion_matrix\n",
    "from sklearn.discriminant_analysis import QuadraticDiscriminantAnalysis, LinearDiscriminantAnalysis\n",
    "\n",
    "lda = LinearDiscriminantAnalysis(priors=[0.55,0.45],store_covariance=True)\n",
    "# lda = QuadraticDiscriminantAnalysis(priors=[0.75,0.25],store_covariance=True)\n",
    "lda.fit(X4,y1)\n",
    "print(lda.score(X4,y1))\n",
    "print(f1_score(y1,lda.predict(X4))) #f1 - 0.21100518481351396\n",
    "confusion_matrix(y1,lda.predict(X4))\n",
    "\n",
    "#0.22177432255174842 - lda = LinearDiscriminantAnalysis(priors=[0.55,0.45],store_covariance=True)\n",
    "\n",
    "#and 0.21121506055214373 - lda = QuadraticDiscriminantAnalysis(priors=[0.75,0.25],store_covariance=True)"
   ]
  },
  {
   "cell_type": "markdown",
   "metadata": {},
   "source": [
    "# KNeighbors "
   ]
  },
  {
   "cell_type": "code",
   "execution_count": null,
   "metadata": {},
   "outputs": [],
   "source": [
    "from sklearn.decomposition import PCA\n",
    "X = df2[numericFeatures]\n",
    "X = ((X-X.mean())/X.std())\n",
    "pca = PCA()\n",
    "X2 = pca.fit_transform(X)\n",
    "\n",
    "\n",
    "from sklearn.neighbors import KNeighborsClassifier,KNeighborsRegressor, RadiusNeighborsRegressor#NeighborhoodComponentsAnalysis, NearestCentroid\n",
    "\n",
    "from sklearn.model_selection import cross_val_score\n",
    "# nca = NeighborhoodComponentsAnalysis(init='pca')\n",
    "# from sklearn.model_selection import train_test_split\n",
    "\n",
    "# X_train, X_test, y_train, y_test = train_test_split(X,y1,test_size=0.9)\n",
    "# nc = NearestCentroid(metric='euclidean')\n",
    "# nc.fit(X2,y1)\n",
    "# print(f1_score(y1,nc.predict(X2)))\n",
    "# confusion_matrix(y1,nc.predict(X2))\n",
    "\n",
    "# knn = KNeighborsClassifier(n_neighbors=3,weights='uniform',n_jobs=-1,p=1)\n",
    "# scores = cross_val_score(knn,X2,y1,scoring='f1')\n",
    "# print(scores.mean())\n",
    "knn.fit(X2,y1)\n",
    "# plt.scatter(X2[:,0],X2[:,1],c=df2['made_claim'],alpha=0.5)\n",
    "\n",
    "preds = knn.predict(X2)\n",
    "print(f1_score(y1,preds))\n",
    "confusion_matrix(y1,preds)\n",
    "\n",
    "# #0.3240575448913158, p=1 n_neighbors=3 f1_score on pcaed componentsd"
   ]
  },
  {
   "cell_type": "markdown",
   "metadata": {},
   "source": [
    "# SVM"
   ]
  },
  {
   "cell_type": "code",
   "execution_count": null,
   "metadata": {},
   "outputs": [],
   "source": [
    "from sklearn.svm import LinearSVC,NuSVC,OneClassSVM\n",
    "\n",
    "svc = LinearSVC(C=0.5,penalty='l1',max_iter=3000,dual=False,class_weight={0:1,1:8}) #0.21847693375787028\n",
    "\n",
    "# svc = NuSVC(nu=0.15,kernel='rbf',class_weight={0:1,1:1}) #0.19431386636559583\n",
    "\n",
    "# svc = OneClassSVM(kernel='linear',cache_size=500)\n",
    "\n",
    "svc.fit(X4,y1)\n",
    "\n",
    "preds = svc.predict(X4)\n",
    "\n",
    "print(r2_score(y1,preds))\n",
    "\n",
    "print(f1_score(y1,preds))\n",
    "\n",
    "print(classification_report(y1,preds))\n",
    "\n",
    "confusion_matrix(y1,preds)\n",
    "\n",
    "Other - SGD / Perceptron, Gaussian Mixture\n"
   ]
  },
  {
   "cell_type": "markdown",
   "metadata": {},
   "source": [
    "### Other -  SGD / Perceptron, Gaussian Mixture"
   ]
  },
  {
   "cell_type": "code",
   "execution_count": null,
   "metadata": {},
   "outputs": [],
   "source": []
  }
 ],
 "metadata": {
  "kernelspec": {
   "display_name": "Python 3",
   "language": "python",
   "name": "python3"
  },
  "language_info": {
   "codemirror_mode": {
    "name": "ipython",
    "version": 3
   },
   "file_extension": ".py",
   "mimetype": "text/x-python",
   "name": "python",
   "nbconvert_exporter": "python",
   "pygments_lexer": "ipython3",
   "version": "3.7.4"
  }
 },
 "nbformat": 4,
 "nbformat_minor": 2
}
