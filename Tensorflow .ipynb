{
 "cells": [
  {
   "cell_type": "code",
   "execution_count": 2,
   "metadata": {},
   "outputs": [],
   "source": [
    "import numpy as np\n",
    "import sklearn\n",
    "import pandas as pd\n",
    "import matplotlib.pyplot as plt\n",
    "import seaborn as sns\n",
    "import tensorflow as tf\n",
    "pd.options.display.max_columns = 100\n",
    "%matplotlib inline"
   ]
  },
  {
   "cell_type": "code",
   "execution_count": 3,
   "metadata": {
    "scrolled": false
   },
   "outputs": [
    {
     "data": {
      "text/html": [
       "<div>\n",
       "<style scoped>\n",
       "    .dataframe tbody tr th:only-of-type {\n",
       "        vertical-align: middle;\n",
       "    }\n",
       "\n",
       "    .dataframe tbody tr th {\n",
       "        vertical-align: top;\n",
       "    }\n",
       "\n",
       "    .dataframe thead th {\n",
       "        text-align: right;\n",
       "    }\n",
       "</style>\n",
       "<table border=\"1\" class=\"dataframe\">\n",
       "  <thead>\n",
       "    <tr style=\"text-align: right;\">\n",
       "      <th></th>\n",
       "      <th>pol_bonus</th>\n",
       "      <th>pol_duration</th>\n",
       "      <th>pol_sit_duration</th>\n",
       "      <th>pol_payd</th>\n",
       "      <th>drv_drv2</th>\n",
       "      <th>drv_age1</th>\n",
       "      <th>drv_age_lic1</th>\n",
       "      <th>vh_age</th>\n",
       "      <th>vh_cyl</th>\n",
       "      <th>vh_din</th>\n",
       "      <th>vh_sale_begin</th>\n",
       "      <th>vh_sale_end</th>\n",
       "      <th>vh_speed</th>\n",
       "      <th>vh_value</th>\n",
       "      <th>vh_weight</th>\n",
       "      <th>town_mean_altitude</th>\n",
       "      <th>town_surface_area</th>\n",
       "      <th>population</th>\n",
       "      <th>Maxi</th>\n",
       "      <th>Median1</th>\n",
       "      <th>Median2</th>\n",
       "      <th>Mini</th>\n",
       "      <th>Professional</th>\n",
       "      <th>Retired</th>\n",
       "      <th>Biannual</th>\n",
       "      <th>Monthly</th>\n",
       "      <th>Quarterly</th>\n",
       "      <th>tourism</th>\n",
       "      <th>diesel</th>\n",
       "      <th>M</th>\n",
       "      <th>pol_bonus2</th>\n",
       "      <th>order_pol_coverage</th>\n",
       "    </tr>\n",
       "  </thead>\n",
       "  <tbody>\n",
       "    <tr>\n",
       "      <th>0</th>\n",
       "      <td>0.5</td>\n",
       "      <td>36</td>\n",
       "      <td>6</td>\n",
       "      <td>0</td>\n",
       "      <td>0</td>\n",
       "      <td>77</td>\n",
       "      <td>55</td>\n",
       "      <td>15</td>\n",
       "      <td>1598</td>\n",
       "      <td>111</td>\n",
       "      <td>16</td>\n",
       "      <td>15</td>\n",
       "      <td>185</td>\n",
       "      <td>17517</td>\n",
       "      <td>1260.0</td>\n",
       "      <td>526.0</td>\n",
       "      <td>3216.0</td>\n",
       "      <td>4.8</td>\n",
       "      <td>1</td>\n",
       "      <td>0</td>\n",
       "      <td>0</td>\n",
       "      <td>0</td>\n",
       "      <td>0</td>\n",
       "      <td>1</td>\n",
       "      <td>1</td>\n",
       "      <td>0</td>\n",
       "      <td>0</td>\n",
       "      <td>1</td>\n",
       "      <td>0</td>\n",
       "      <td>1</td>\n",
       "      <td>1</td>\n",
       "      <td>4</td>\n",
       "    </tr>\n",
       "    <tr>\n",
       "      <th>1</th>\n",
       "      <td>0.5</td>\n",
       "      <td>15</td>\n",
       "      <td>5</td>\n",
       "      <td>0</td>\n",
       "      <td>1</td>\n",
       "      <td>52</td>\n",
       "      <td>33</td>\n",
       "      <td>12</td>\n",
       "      <td>2184</td>\n",
       "      <td>112</td>\n",
       "      <td>12</td>\n",
       "      <td>9</td>\n",
       "      <td>180</td>\n",
       "      <td>21500</td>\n",
       "      <td>1480.0</td>\n",
       "      <td>57.0</td>\n",
       "      <td>4912.0</td>\n",
       "      <td>141.3</td>\n",
       "      <td>1</td>\n",
       "      <td>0</td>\n",
       "      <td>0</td>\n",
       "      <td>0</td>\n",
       "      <td>0</td>\n",
       "      <td>0</td>\n",
       "      <td>0</td>\n",
       "      <td>0</td>\n",
       "      <td>0</td>\n",
       "      <td>1</td>\n",
       "      <td>1</td>\n",
       "      <td>1</td>\n",
       "      <td>1</td>\n",
       "      <td>4</td>\n",
       "    </tr>\n",
       "    <tr>\n",
       "      <th>2</th>\n",
       "      <td>0.5</td>\n",
       "      <td>16</td>\n",
       "      <td>6</td>\n",
       "      <td>0</td>\n",
       "      <td>0</td>\n",
       "      <td>52</td>\n",
       "      <td>34</td>\n",
       "      <td>20</td>\n",
       "      <td>2496</td>\n",
       "      <td>112</td>\n",
       "      <td>32</td>\n",
       "      <td>19</td>\n",
       "      <td>130</td>\n",
       "      <td>23600</td>\n",
       "      <td>2931.0</td>\n",
       "      <td>257.0</td>\n",
       "      <td>4488.0</td>\n",
       "      <td>5.3</td>\n",
       "      <td>0</td>\n",
       "      <td>0</td>\n",
       "      <td>0</td>\n",
       "      <td>1</td>\n",
       "      <td>1</td>\n",
       "      <td>0</td>\n",
       "      <td>0</td>\n",
       "      <td>1</td>\n",
       "      <td>0</td>\n",
       "      <td>0</td>\n",
       "      <td>1</td>\n",
       "      <td>1</td>\n",
       "      <td>1</td>\n",
       "      <td>1</td>\n",
       "    </tr>\n",
       "    <tr>\n",
       "      <th>3</th>\n",
       "      <td>0.5</td>\n",
       "      <td>11</td>\n",
       "      <td>7</td>\n",
       "      <td>0</td>\n",
       "      <td>0</td>\n",
       "      <td>67</td>\n",
       "      <td>46</td>\n",
       "      <td>12</td>\n",
       "      <td>1149</td>\n",
       "      <td>75</td>\n",
       "      <td>14</td>\n",
       "      <td>12</td>\n",
       "      <td>170</td>\n",
       "      <td>13050</td>\n",
       "      <td>930.0</td>\n",
       "      <td>109.0</td>\n",
       "      <td>1339.0</td>\n",
       "      <td>61.2</td>\n",
       "      <td>1</td>\n",
       "      <td>0</td>\n",
       "      <td>0</td>\n",
       "      <td>0</td>\n",
       "      <td>0</td>\n",
       "      <td>0</td>\n",
       "      <td>1</td>\n",
       "      <td>0</td>\n",
       "      <td>0</td>\n",
       "      <td>1</td>\n",
       "      <td>0</td>\n",
       "      <td>1</td>\n",
       "      <td>1</td>\n",
       "      <td>4</td>\n",
       "    </tr>\n",
       "    <tr>\n",
       "      <th>4</th>\n",
       "      <td>0.5</td>\n",
       "      <td>16</td>\n",
       "      <td>6</td>\n",
       "      <td>0</td>\n",
       "      <td>1</td>\n",
       "      <td>60</td>\n",
       "      <td>35</td>\n",
       "      <td>23</td>\n",
       "      <td>1905</td>\n",
       "      <td>93</td>\n",
       "      <td>23</td>\n",
       "      <td>18</td>\n",
       "      <td>185</td>\n",
       "      <td>17974</td>\n",
       "      <td>1035.0</td>\n",
       "      <td>24.0</td>\n",
       "      <td>1849.0</td>\n",
       "      <td>9.7</td>\n",
       "      <td>0</td>\n",
       "      <td>0</td>\n",
       "      <td>1</td>\n",
       "      <td>0</td>\n",
       "      <td>0</td>\n",
       "      <td>0</td>\n",
       "      <td>1</td>\n",
       "      <td>0</td>\n",
       "      <td>0</td>\n",
       "      <td>1</td>\n",
       "      <td>1</td>\n",
       "      <td>1</td>\n",
       "      <td>1</td>\n",
       "      <td>2</td>\n",
       "    </tr>\n",
       "  </tbody>\n",
       "</table>\n",
       "</div>"
      ],
      "text/plain": [
       "   pol_bonus  pol_duration  pol_sit_duration  pol_payd  drv_drv2  drv_age1  \\\n",
       "0        0.5            36                 6         0         0        77   \n",
       "1        0.5            15                 5         0         1        52   \n",
       "2        0.5            16                 6         0         0        52   \n",
       "3        0.5            11                 7         0         0        67   \n",
       "4        0.5            16                 6         0         1        60   \n",
       "\n",
       "   drv_age_lic1  vh_age  vh_cyl  vh_din  vh_sale_begin  vh_sale_end  vh_speed  \\\n",
       "0            55      15    1598     111             16           15       185   \n",
       "1            33      12    2184     112             12            9       180   \n",
       "2            34      20    2496     112             32           19       130   \n",
       "3            46      12    1149      75             14           12       170   \n",
       "4            35      23    1905      93             23           18       185   \n",
       "\n",
       "   vh_value  vh_weight  town_mean_altitude  town_surface_area  population  \\\n",
       "0     17517     1260.0               526.0             3216.0         4.8   \n",
       "1     21500     1480.0                57.0             4912.0       141.3   \n",
       "2     23600     2931.0               257.0             4488.0         5.3   \n",
       "3     13050      930.0               109.0             1339.0        61.2   \n",
       "4     17974     1035.0                24.0             1849.0         9.7   \n",
       "\n",
       "   Maxi  Median1  Median2  Mini  Professional  Retired  Biannual  Monthly  \\\n",
       "0     1        0        0     0             0        1         1        0   \n",
       "1     1        0        0     0             0        0         0        0   \n",
       "2     0        0        0     1             1        0         0        1   \n",
       "3     1        0        0     0             0        0         1        0   \n",
       "4     0        0        1     0             0        0         1        0   \n",
       "\n",
       "   Quarterly  tourism  diesel  M  pol_bonus2  order_pol_coverage  \n",
       "0          0        1       0  1           1                   4  \n",
       "1          0        1       1  1           1                   4  \n",
       "2          0        0       1  1           1                   1  \n",
       "3          0        1       0  1           1                   4  \n",
       "4          0        1       1  1           1                   2  "
      ]
     },
     "execution_count": 3,
     "metadata": {},
     "output_type": "execute_result"
    }
   ],
   "source": [
    "def transform(df):\n",
    "    df2 = df.copy()\n",
    "    #fill na for city data - 395 missing entries - categorical and numerical, for now assume they come from the most frequent town\n",
    "    df2['commune_code'] = df2['commune_code'].fillna(df2['commune_code'].mode()[0])\n",
    "    df2['canton_code'] = df2['canton_code'].fillna(df2['canton_code'].mode()[0])\n",
    "    df2['city_district_code'] = df2['city_district_code'].fillna(df2['city_district_code'].mode()[0])\n",
    "    df2['regional_department_code'] = df2['regional_department_code'].fillna(df2['regional_department_code'].mode()[0])\n",
    "    df2['population'] = df2['population'].fillna(df2['population'].mode()[0])\n",
    "    df2['town_mean_altitude'] = df2['town_mean_altitude'].fillna(df2['town_mean_altitude'].mode()[0])\n",
    "    df2['town_surface_area'] = df2['town_surface_area'].fillna(df2['town_surface_area'].mode()[0])\n",
    "    \n",
    "#     #impute or remove illogical values\n",
    "    df2.loc[df2['vh_weight']==0,'vh_weight'] = df2['vh_weight'].median() # - 2959 missing entries - imputation doesnt give a better correlation\n",
    "    df2 = df2.loc[df2['drv_age1']>=df2['drv_age_lic1']] # 32 missing entires; dropped\n",
    "    df2 = df2.loc[df2['vh_cyl']>0] #3 missing entries\n",
    "    df2.loc[df2['vh_value']==0,'vh_value'] = 18659 #from data exploration\n",
    "\n",
    "#     #one hot encode categorical features; \n",
    "    df2 = pd.concat([df2,pd.get_dummies(df2['pol_coverage'])],axis=1)\n",
    "    df2.loc[df2['pol_usage']=='AllTrips','pol_usage'] = 'Professional' #- only 77 AllTrips; from data description it is similar to professional\n",
    "    df2 = pd.concat([df2,pd.get_dummies(df2['pol_usage'])],axis=1)\n",
    "    df2 = pd.concat([df2,pd.get_dummies(df2['pol_pay_freq'])],axis=1)\n",
    "\n",
    "#     #binarize features\n",
    "    df2['pol_payd'] = (df2['pol_payd'] == 'Yes') * 1 # Yes/ No\n",
    "    df2['drv_drv2'] = (df2['drv_drv2'] == 'Yes') * 1 # Yes / No\n",
    "    df2['tourism'] = (df2['vh_type'] == 'Tourism') * 1 #tourism or commerical\n",
    "    df2['diesel'] = (df2['vh_fuel'] == 'Diesel') * 1 #also hybrids but very low representation - 62 hybrids\n",
    "    df2['M'] = (df2['drv_sex1'] == 'M') * 1 #Male / Female\n",
    "    \n",
    "    df2['pol_bonus2'] = (df2['pol_bonus'] == 0.5) * 1\n",
    "    \n",
    "    \n",
    "#     #ordinally encode policy coverage\n",
    "    order = {'Mini':1,'Median2':2,'Median1':3,'Maxi':4}\n",
    "    df2['order_pol_coverage'] = df['pol_coverage'].apply(lambda x : order[x])\n",
    "\n",
    "    unwantedFeatures= ['id_policy','pol_coverage','pol_pay_freq','pol_usage','pol_insee_code','drv_sex1',\n",
    "                   'drv_age2','drv_sex2','drv_age_lic2','vh_fuel','vh_make','vh_model','vh_type']+['commune_code',\n",
    "       'canton_code', 'city_district_code', 'regional_department_code']+['WorkPrivate','Yearly']+['made_claim','claim_amount']#+['drv_drv2']\n",
    "    \n",
    "    y1 = df2['made_claim']\n",
    "    y2 = df2['claim_amount']\n",
    "    df2 = df2.drop(unwantedFeatures,axis=1)\n",
    "    return y1, y2, df2\n",
    "\n",
    "\n",
    "\n",
    "df = pd.read_csv(\"training_data.csv\")\n",
    "y1, y2, df2 = transform(df)\n",
    "df2.head()"
   ]
  },
  {
   "cell_type": "code",
   "execution_count": 33,
   "metadata": {},
   "outputs": [],
   "source": [
    "from sklearn.metrics import f1_score, confusion_matrix, classification_report, r2_score, roc_auc_score,roc_curve\n",
    "from sklearn.model_selection import cross_val_score, train_test_split\n",
    "booleanFeatures = ['pol_payd','Professional','Retired','M','diesel','order_pol_coverage','tourism','pol_bonus2']#+['Maxi', 'Median1', 'Median2', 'Mini'] # omitted - + ['drv_drv2','vh_make','vh_model','canton_code','commune_code',city_district_code','regional_department_code','Biannual', 'Monthly','Quarterly']\n",
    "numericFeatures = ['pol_duration', 'vh_din', 'pol_bonus', 'population', 'pol_sit_duration', 'vh_value', 'vh_sale_begin', 'vh_sale_end', 'vh_cyl', 'vh_speed', 'drv_age1', 'vh_weight', 'vh_age', 'drv_age_lic1'] #+ ['order_pol_coverage','town_surface_area','town_mean_altitude']\n"
   ]
  },
  {
   "cell_type": "code",
   "execution_count": 4,
   "metadata": {},
   "outputs": [],
   "source": [
    "#denoise vehicle age factors;\n",
    "from sklearn.decomposition import PCA\n",
    "from sklearn.preprocessing import PolynomialFeatures\n",
    "\n",
    "\n",
    "#Normalised features\n",
    "df3 = df2.copy()\n",
    "df3[numericFeatures] = ((df3[numericFeatures]-df3[numericFeatures].mean())/df3[numericFeatures].std())\n",
    "df3['order_pol_coverage']/=4\n",
    "\n",
    "#transformations\n",
    "df4 = df2.copy()\n",
    "df4['population'] = np.log(df4['population']+1)\n",
    "df4['vh_din'] = np.log(df4['vh_din'])\n",
    "df4['vh_value'] = np.log(df4['vh_value'])\n",
    "df4['vh_weight'] = np.log(df4['vh_weight'])\n",
    "df4['vh_age'] = np.log(df4['vh_age'])\n",
    "df4['vh_sale_begin'] = np.log(df4['vh_sale_begin'])\n",
    "df4[numericFeatures] = ((df4[numericFeatures]-df4[numericFeatures].mean())/df4[numericFeatures].std())\n",
    "df4['order_pol_coverage']/=4\n",
    "\n",
    "    \n",
    "    \n",
    "    \n",
    "#PCA transformed\n",
    "pca = PCA()\n",
    "X2 = pca.fit_transform(df3[numericFeatures])[:,:12]\n",
    "X3 = pd.concat([df3[booleanFeatures].copy(),pd.DataFrame(X2,index=df3[booleanFeatures].index)],axis=1)\n",
    "\n",
    "#polynomial features\n",
    "X4 = df3[numericFeatures+booleanFeatures].copy()\n",
    "# feats = list(X4.columns)\n",
    "# for i in range(len(numericFeatures)):\n",
    "#     for j in range(i+1,len(numericFeatures+booleanFeatures)):\n",
    "#         X4[feats[i]+\"_and_\"+feats[j]] = X4[feats[i]] * X4[feats[j]]\n",
    "poly = PolynomialFeatures(degree=2,include_bias=False)\n",
    "X5 = poly.fit_transform(X4)"
   ]
  },
  {
   "cell_type": "code",
   "execution_count": 102,
   "metadata": {},
   "outputs": [],
   "source": [
    "pos = (y1==1).sum()\n",
    "neg = (y1==0).sum()"
   ]
  },
  {
   "cell_type": "code",
   "execution_count": 35,
   "metadata": {},
   "outputs": [],
   "source": [
    "X_train, X_test,y_train,y_test = train_test_split(X4,y1,test_size=0.2)"
   ]
  },
  {
   "cell_type": "code",
   "execution_count": 27,
   "metadata": {},
   "outputs": [],
   "source": [
    "\n",
    "\n",
    "METRICS = [\n",
    "      keras.metrics.TruePositives(name='tp'),\n",
    "      keras.metrics.FalsePositives(name='fp'),\n",
    "      keras.metrics.TrueNegatives(name='tn'),\n",
    "      keras.metrics.FalseNegatives(name='fn'), \n",
    "      keras.metrics.BinaryAccuracy(name='accuracy'),\n",
    "      keras.metrics.Precision(name='precision'),\n",
    "      keras.metrics.Recall(name='recall'),\n",
    "      keras.metrics.AUC(name='auc'),\n",
    "]\n"
   ]
  },
  {
   "cell_type": "code",
   "execution_count": 95,
   "metadata": {
    "scrolled": false
   },
   "outputs": [
    {
     "name": "stdout",
     "output_type": "stream",
     "text": [
      "Model: \"sequential_8\"\n",
      "_________________________________________________________________\n",
      "Layer (type)                 Output Shape              Param #   \n",
      "=================================================================\n",
      "dense_34 (Dense)             (None, 16)                368       \n",
      "_________________________________________________________________\n",
      "dropout_13 (Dropout)         (None, 16)                0         \n",
      "_________________________________________________________________\n",
      "dense_35 (Dense)             (None, 1)                 17        \n",
      "=================================================================\n",
      "Total params: 385\n",
      "Trainable params: 385\n",
      "Non-trainable params: 0\n",
      "_________________________________________________________________\n"
     ]
    }
   ],
   "source": [
    "import tensorflow as tf\n",
    "from tensorflow import keras\n",
    "from tensorflow.keras.models import Model\n",
    "from tensorflow.keras.layers import Input,Dense, Dropout\n",
    "\n",
    "def make_model(metrics = METRICS, output_bias=None):\n",
    "    if output_bias is not None:\n",
    "        output_bias = tf.keras.initializers.Constant(output_bias)\n",
    "    model = keras.Sequential([\n",
    "        keras.layers.Dense(\n",
    "          16, activation='relu',\n",
    "          input_shape=(len(numericFeatures+booleanFeatures),)),\n",
    "        keras.layers.Dropout(0.5),\n",
    "        keras.layers.Dense(1, activation='sigmoid',\n",
    "                           bias_initializer=output_bias),\n",
    "    ])\n",
    "\n",
    "    model.compile(\n",
    "        optimizer=keras.optimizers.Adam(lr=1e-3),\n",
    "        loss=keras.losses.BinaryCrossentropy(),\n",
    "        metrics=metrics)\n",
    "    return model\n",
    "\n",
    "initial_bias = np.log([pos/neg])\n",
    "\n",
    "model = make_model(output_bias=initial_bias)\n",
    "model.summary()"
   ]
  },
  {
   "cell_type": "code",
   "execution_count": 96,
   "metadata": {
    "scrolled": true
   },
   "outputs": [],
   "source": [
    "EPOCHS = 100\n",
    "BATCH_SIZE = 2048\n",
    "\n",
    "early_stopping = tf.keras.callbacks.EarlyStopping(\n",
    "    monitor='val_auc', \n",
    "    verbose=1,\n",
    "    patience=10,\n",
    "    mode='max',\n",
    "    restore_best_weights=True)"
   ]
  },
  {
   "cell_type": "code",
   "execution_count": 47,
   "metadata": {
    "scrolled": true
   },
   "outputs": [
    {
     "name": "stdout",
     "output_type": "stream",
     "text": [
      "0.1431969111969112\n"
     ]
    },
    {
     "data": {
      "text/plain": [
       "array([[49328, 22797],\n",
       "       [ 4942,  2318]])"
      ]
     },
     "execution_count": 47,
     "metadata": {},
     "output_type": "execute_result"
    }
   ],
   "source": [
    "print(f1_score(y1,np.round(model.predict(X4)[:,0])))\n",
    "confusion_matrix(y1,np.round(model.predict(X4)))"
   ]
  },
  {
   "cell_type": "code",
   "execution_count": 83,
   "metadata": {},
   "outputs": [
    {
     "data": {
      "text/plain": [
       "0.5099614966634224"
      ]
     },
     "execution_count": 83,
     "metadata": {},
     "output_type": "execute_result"
    }
   ],
   "source": [
    "results = model.evaluate(X_train, y_train, batch_size=BATCH_SIZE, verbose=0)\n",
    "results[0]"
   ]
  },
  {
   "cell_type": "code",
   "execution_count": 97,
   "metadata": {},
   "outputs": [],
   "source": [
    "\n",
    "import os\n",
    "import tempfile\n",
    "initial_weights = os.path.join(tempfile.mkdtemp(),'initial_weights')\n",
    "model.save_weights(initial_weights)\n"
   ]
  },
  {
   "cell_type": "code",
   "execution_count": 93,
   "metadata": {},
   "outputs": [],
   "source": [
    "colors = plt.rcParams['axes.prop_cycle'].by_key()['color']\n",
    "\n",
    "def plot_loss(history, label, n):\n",
    "  # Use a log scale to show the wide range of values.\n",
    "  plt.semilogy(history.epoch,  history.history['loss'],\n",
    "               color=colors[n], label='Train '+label)\n",
    "  plt.semilogy(history.epoch,  history.history['val_loss'],\n",
    "          color=colors[n], label='Val '+label,\n",
    "          linestyle=\"--\")\n",
    "  plt.xlabel('Epoch')\n",
    "  plt.ylabel('Loss')\n",
    "  \n",
    "  plt.legend()\n"
   ]
  },
  {
   "cell_type": "code",
   "execution_count": 101,
   "metadata": {},
   "outputs": [
    {
     "data": {
      "image/png": "[encoded data removed]",
      "text/plain": [
       "<Figure size 1440x720 with 1 Axes>"
      ]
     },
     "metadata": {
      "needs_background": "light"
     },
     "output_type": "display_data"
    }
   ],
   "source": [
    "fig,ax = plt.subplots(figsize=(20,10))\n",
    "plot_loss(zero_bias_history, \"Zero Bias\", 0)\n",
    "plot_loss(careful_bias_history, \"Careful Bias\", 1)\n"
   ]
  },
  {
   "cell_type": "code",
   "execution_count": 30,
   "metadata": {
    "scrolled": true
   },
   "outputs": [
    {
     "name": "stdout",
     "output_type": "stream",
     "text": [
      "0.0\n"
     ]
    },
    {
     "data": {
      "text/plain": [
       "array([[72125,     0],\n",
       "       [ 7260,     0]])"
      ]
     },
     "execution_count": 30,
     "metadata": {},
     "output_type": "execute_result"
    }
   ],
   "source": [
    "print(f1_score(y1,np.round(model.predict(df3[numericFeatures+booleanFeatures]))))\n",
    "confusion_matrix(y1,np.round(model.predict(df3[numericFeatures+booleanFeatures])))"
   ]
  },
  {
   "cell_type": "code",
   "execution_count": 54,
   "metadata": {},
   "outputs": [
    {
     "data": {
      "text/plain": [
       "0.3247110598207406"
      ]
     },
     "execution_count": 54,
     "metadata": {},
     "output_type": "execute_result"
    }
   ],
   "source": []
  },
  {
   "cell_type": "code",
   "execution_count": 16,
   "metadata": {},
   "outputs": [],
   "source": [
    "from sklearn.metrics import confusion_matrix,f1_score\n"
   ]
  },
  {
   "cell_type": "code",
   "execution_count": 18,
   "metadata": {},
   "outputs": [
    {
     "ename": "ModuleNotFoundError",
     "evalue": "No module named 'tensorflow_probability'",
     "output_type": "error",
     "traceback": [
      "\u001b[0;31m---------------------------------------------------------------------------\u001b[0m",
      "\u001b[0;31mModuleNotFoundError\u001b[0m                       Traceback (most recent call last)",
      "\u001b[0;32m<ipython-input-18-41494c8c96ff>\u001b[0m in \u001b[0;36m<module>\u001b[0;34m\u001b[0m\n\u001b[0;32m----> 1\u001b[0;31m \u001b[0;32mimport\u001b[0m \u001b[0mtensorflow_probability\u001b[0m \u001b[0;32mas\u001b[0m \u001b[0mtfp\u001b[0m\u001b[0;34m\u001b[0m\u001b[0;34m\u001b[0m\u001b[0m\n\u001b[0m",
      "\u001b[0;31mModuleNotFoundError\u001b[0m: No module named 'tensorflow_probability'"
     ]
    }
   ],
   "source": [
    "import tensorflow_probability as tfp"
   ]
  },
  {
   "cell_type": "markdown",
   "metadata": {},
   "source": [
    "# Reading\n",
    "\n",
    "https://www.kaggle.com/mlg-ulb/creditcardfraud\n",
    "\n",
    "Oversample positive class\n",
    "Undersample negative class"
   ]
  },
  {
   "cell_type": "code",
   "execution_count": null,
   "metadata": {},
   "outputs": [],
   "source": []
  }
 ],
 "metadata": {
  "kernelspec": {
   "display_name": "Python 3",
   "language": "python",
   "name": "python3"
  },
  "language_info": {
   "codemirror_mode": {
    "name": "ipython",
    "version": 3
   },
   "file_extension": ".py",
   "mimetype": "text/x-python",
   "name": "python",
   "nbconvert_exporter": "python",
   "pygments_lexer": "ipython3",
   "version": "3.7.4"
  }
 },
 "nbformat": 4,
 "nbformat_minor": 2
}
