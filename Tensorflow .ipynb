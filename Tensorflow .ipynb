{
 "cells": [
  {
   "cell_type": "code",
   "execution_count": 1,
   "metadata": {},
   "outputs": [],
   "source": [
    "import numpy as np\n",
    "import sklearn\n",
    "import pandas as pd\n",
    "import matplotlib.pyplot as plt\n",
    "import seaborn as sns\n",
    "import tensorflow as tf\n",
    "pd.options.display.max_columns = 100\n",
    "%matplotlib inline"
   ]
  },
  {
   "cell_type": "code",
   "execution_count": 70,
   "metadata": {
    "scrolled": false
   },
   "outputs": [
    {
     "data": {
      "text/html": [
       "<div>\n",
       "<style scoped>\n",
       "    .dataframe tbody tr th:only-of-type {\n",
       "        vertical-align: middle;\n",
       "    }\n",
       "\n",
       "    .dataframe tbody tr th {\n",
       "        vertical-align: top;\n",
       "    }\n",
       "\n",
       "    .dataframe thead th {\n",
       "        text-align: right;\n",
       "    }\n",
       "</style>\n",
       "<table border=\"1\" class=\"dataframe\">\n",
       "  <thead>\n",
       "    <tr style=\"text-align: right;\">\n",
       "      <th></th>\n",
       "      <th>pol_bonus</th>\n",
       "      <th>pol_duration</th>\n",
       "      <th>pol_sit_duration</th>\n",
       "      <th>pol_payd</th>\n",
       "      <th>drv_drv2</th>\n",
       "      <th>drv_age1</th>\n",
       "      <th>drv_age_lic1</th>\n",
       "      <th>vh_age</th>\n",
       "      <th>vh_cyl</th>\n",
       "      <th>vh_din</th>\n",
       "      <th>vh_sale_begin</th>\n",
       "      <th>vh_sale_end</th>\n",
       "      <th>vh_speed</th>\n",
       "      <th>vh_value</th>\n",
       "      <th>vh_weight</th>\n",
       "      <th>town_mean_altitude</th>\n",
       "      <th>town_surface_area</th>\n",
       "      <th>population</th>\n",
       "      <th>Maxi</th>\n",
       "      <th>Median1</th>\n",
       "      <th>Median2</th>\n",
       "      <th>Mini</th>\n",
       "      <th>Professional</th>\n",
       "      <th>Retired</th>\n",
       "      <th>WorkPrivate</th>\n",
       "      <th>Biannual</th>\n",
       "      <th>Monthly</th>\n",
       "      <th>Quarterly</th>\n",
       "      <th>tourism</th>\n",
       "      <th>diesel</th>\n",
       "      <th>M</th>\n",
       "      <th>order_pol_coverage</th>\n",
       "    </tr>\n",
       "  </thead>\n",
       "  <tbody>\n",
       "    <tr>\n",
       "      <th>0</th>\n",
       "      <td>0.5</td>\n",
       "      <td>36</td>\n",
       "      <td>6</td>\n",
       "      <td>0</td>\n",
       "      <td>0</td>\n",
       "      <td>77</td>\n",
       "      <td>55</td>\n",
       "      <td>15</td>\n",
       "      <td>1598</td>\n",
       "      <td>111</td>\n",
       "      <td>16</td>\n",
       "      <td>15</td>\n",
       "      <td>185</td>\n",
       "      <td>17517</td>\n",
       "      <td>1260.0</td>\n",
       "      <td>526.0</td>\n",
       "      <td>3216.0</td>\n",
       "      <td>4.8</td>\n",
       "      <td>1</td>\n",
       "      <td>0</td>\n",
       "      <td>0</td>\n",
       "      <td>0</td>\n",
       "      <td>0</td>\n",
       "      <td>1</td>\n",
       "      <td>0</td>\n",
       "      <td>1</td>\n",
       "      <td>0</td>\n",
       "      <td>0</td>\n",
       "      <td>1</td>\n",
       "      <td>0</td>\n",
       "      <td>1</td>\n",
       "      <td>4</td>\n",
       "    </tr>\n",
       "    <tr>\n",
       "      <th>1</th>\n",
       "      <td>0.5</td>\n",
       "      <td>15</td>\n",
       "      <td>5</td>\n",
       "      <td>0</td>\n",
       "      <td>1</td>\n",
       "      <td>52</td>\n",
       "      <td>33</td>\n",
       "      <td>12</td>\n",
       "      <td>2184</td>\n",
       "      <td>112</td>\n",
       "      <td>12</td>\n",
       "      <td>9</td>\n",
       "      <td>180</td>\n",
       "      <td>21500</td>\n",
       "      <td>1480.0</td>\n",
       "      <td>57.0</td>\n",
       "      <td>4912.0</td>\n",
       "      <td>141.3</td>\n",
       "      <td>1</td>\n",
       "      <td>0</td>\n",
       "      <td>0</td>\n",
       "      <td>0</td>\n",
       "      <td>0</td>\n",
       "      <td>0</td>\n",
       "      <td>1</td>\n",
       "      <td>0</td>\n",
       "      <td>0</td>\n",
       "      <td>0</td>\n",
       "      <td>1</td>\n",
       "      <td>1</td>\n",
       "      <td>1</td>\n",
       "      <td>4</td>\n",
       "    </tr>\n",
       "    <tr>\n",
       "      <th>2</th>\n",
       "      <td>0.5</td>\n",
       "      <td>16</td>\n",
       "      <td>6</td>\n",
       "      <td>0</td>\n",
       "      <td>0</td>\n",
       "      <td>52</td>\n",
       "      <td>34</td>\n",
       "      <td>20</td>\n",
       "      <td>2496</td>\n",
       "      <td>112</td>\n",
       "      <td>32</td>\n",
       "      <td>19</td>\n",
       "      <td>130</td>\n",
       "      <td>23600</td>\n",
       "      <td>2931.0</td>\n",
       "      <td>257.0</td>\n",
       "      <td>4488.0</td>\n",
       "      <td>5.3</td>\n",
       "      <td>0</td>\n",
       "      <td>0</td>\n",
       "      <td>0</td>\n",
       "      <td>1</td>\n",
       "      <td>1</td>\n",
       "      <td>0</td>\n",
       "      <td>0</td>\n",
       "      <td>0</td>\n",
       "      <td>1</td>\n",
       "      <td>0</td>\n",
       "      <td>0</td>\n",
       "      <td>1</td>\n",
       "      <td>1</td>\n",
       "      <td>1</td>\n",
       "    </tr>\n",
       "    <tr>\n",
       "      <th>3</th>\n",
       "      <td>0.5</td>\n",
       "      <td>11</td>\n",
       "      <td>7</td>\n",
       "      <td>0</td>\n",
       "      <td>0</td>\n",
       "      <td>67</td>\n",
       "      <td>46</td>\n",
       "      <td>12</td>\n",
       "      <td>1149</td>\n",
       "      <td>75</td>\n",
       "      <td>14</td>\n",
       "      <td>12</td>\n",
       "      <td>170</td>\n",
       "      <td>13050</td>\n",
       "      <td>930.0</td>\n",
       "      <td>109.0</td>\n",
       "      <td>1339.0</td>\n",
       "      <td>61.2</td>\n",
       "      <td>1</td>\n",
       "      <td>0</td>\n",
       "      <td>0</td>\n",
       "      <td>0</td>\n",
       "      <td>0</td>\n",
       "      <td>0</td>\n",
       "      <td>1</td>\n",
       "      <td>1</td>\n",
       "      <td>0</td>\n",
       "      <td>0</td>\n",
       "      <td>1</td>\n",
       "      <td>0</td>\n",
       "      <td>1</td>\n",
       "      <td>4</td>\n",
       "    </tr>\n",
       "    <tr>\n",
       "      <th>4</th>\n",
       "      <td>0.5</td>\n",
       "      <td>16</td>\n",
       "      <td>6</td>\n",
       "      <td>0</td>\n",
       "      <td>1</td>\n",
       "      <td>60</td>\n",
       "      <td>35</td>\n",
       "      <td>23</td>\n",
       "      <td>1905</td>\n",
       "      <td>93</td>\n",
       "      <td>23</td>\n",
       "      <td>18</td>\n",
       "      <td>185</td>\n",
       "      <td>17974</td>\n",
       "      <td>1035.0</td>\n",
       "      <td>24.0</td>\n",
       "      <td>1849.0</td>\n",
       "      <td>9.7</td>\n",
       "      <td>0</td>\n",
       "      <td>0</td>\n",
       "      <td>1</td>\n",
       "      <td>0</td>\n",
       "      <td>0</td>\n",
       "      <td>0</td>\n",
       "      <td>1</td>\n",
       "      <td>1</td>\n",
       "      <td>0</td>\n",
       "      <td>0</td>\n",
       "      <td>1</td>\n",
       "      <td>1</td>\n",
       "      <td>1</td>\n",
       "      <td>2</td>\n",
       "    </tr>\n",
       "  </tbody>\n",
       "</table>\n",
       "</div>"
      ],
      "text/plain": [
       "   pol_bonus  pol_duration  pol_sit_duration  pol_payd  drv_drv2  drv_age1  \\\n",
       "0        0.5            36                 6         0         0        77   \n",
       "1        0.5            15                 5         0         1        52   \n",
       "2        0.5            16                 6         0         0        52   \n",
       "3        0.5            11                 7         0         0        67   \n",
       "4        0.5            16                 6         0         1        60   \n",
       "\n",
       "   drv_age_lic1  vh_age  vh_cyl  vh_din  vh_sale_begin  vh_sale_end  vh_speed  \\\n",
       "0            55      15    1598     111             16           15       185   \n",
       "1            33      12    2184     112             12            9       180   \n",
       "2            34      20    2496     112             32           19       130   \n",
       "3            46      12    1149      75             14           12       170   \n",
       "4            35      23    1905      93             23           18       185   \n",
       "\n",
       "   vh_value  vh_weight  town_mean_altitude  town_surface_area  population  \\\n",
       "0     17517     1260.0               526.0             3216.0         4.8   \n",
       "1     21500     1480.0                57.0             4912.0       141.3   \n",
       "2     23600     2931.0               257.0             4488.0         5.3   \n",
       "3     13050      930.0               109.0             1339.0        61.2   \n",
       "4     17974     1035.0                24.0             1849.0         9.7   \n",
       "\n",
       "   Maxi  Median1  Median2  Mini  Professional  Retired  WorkPrivate  Biannual  \\\n",
       "0     1        0        0     0             0        1            0         1   \n",
       "1     1        0        0     0             0        0            1         0   \n",
       "2     0        0        0     1             1        0            0         0   \n",
       "3     1        0        0     0             0        0            1         1   \n",
       "4     0        0        1     0             0        0            1         1   \n",
       "\n",
       "   Monthly  Quarterly  tourism  diesel  M  order_pol_coverage  \n",
       "0        0          0        1       0  1                   4  \n",
       "1        0          0        1       1  1                   4  \n",
       "2        1          0        0       1  1                   1  \n",
       "3        0          0        1       0  1                   4  \n",
       "4        0          0        1       1  1                   2  "
      ]
     },
     "execution_count": 70,
     "metadata": {},
     "output_type": "execute_result"
    }
   ],
   "source": [
    "def transform(df):\n",
    "    df2 = df.copy()\n",
    "    #fill na for city data - 395 missing entries - categorical and numerical, for now assume they come from the most frequent town\n",
    "    df2['commune_code'] = df2['commune_code'].fillna(df2['commune_code'].mode()[0])\n",
    "    df2['canton_code'] = df2['canton_code'].fillna(df2['canton_code'].mode()[0])\n",
    "    df2['city_district_code'] = df2['city_district_code'].fillna(df2['city_district_code'].mode()[0])\n",
    "    df2['regional_department_code'] = df2['regional_department_code'].fillna(df2['regional_department_code'].mode()[0])\n",
    "    df2['population'] = df2['population'].fillna(df2['population'].mode()[0])\n",
    "    df2['town_mean_altitude'] = df2['town_mean_altitude'].fillna(df2['town_mean_altitude'].mode()[0])\n",
    "    df2['town_surface_area'] = df2['town_surface_area'].fillna(df2['town_surface_area'].mode()[0])\n",
    "    \n",
    "#     #impute or remove illogical values\n",
    "    df2.loc[df2['vh_weight']==0,'vh_weight'] = df2['vh_weight'].median() # - 2959 missing entries - imputation doesnt give a better correlation\n",
    "    df2 = df2.loc[df2['drv_age1']>=df2['drv_age_lic1']] # 32 missing entires; dropped\n",
    "    df2 = df2.loc[df2['vh_cyl']>0] #3 missing entries\n",
    "    df2.loc[df2['vh_value']==0,'vh_value'] = 18659 #from data exploration\n",
    "\n",
    "#     #one hot encode categorical features; \n",
    "    df2 = pd.concat([df2,pd.get_dummies(df2['pol_coverage'])],axis=1)\n",
    "    df2.loc[df2['pol_usage']=='AllTrips','pol_usage'] = 'Professional' #- only 77 AllTrips; from data description it is similar to professional\n",
    "    df2 = pd.concat([df2,pd.get_dummies(df2['pol_usage'])],axis=1)\n",
    "    df2 = pd.concat([df2,pd.get_dummies(df2['pol_pay_freq'])],axis=1)\n",
    "\n",
    "#     #binarize features\n",
    "    df2['pol_payd'] = (df2['pol_payd'] == 'Yes') * 1 # Yes/ No\n",
    "    df2['drv_drv2'] = (df2['drv_drv2'] == 'Yes') * 1 # Yes / No\n",
    "    df2['tourism'] = (df2['vh_type'] == 'Tourism') * 1 #tourism or commerical\n",
    "    df2['diesel'] = (df2['vh_fuel'] == 'Diesel') * 1 #also hybrids but very low representation - 62 hybrids\n",
    "    df2['M'] = (df2['drv_sex1'] == 'M') * 1 #Male / Female\n",
    "    \n",
    "#     df2['pol_bonus2'] = (df2['pol_bonus'] == 0.5) * 1\n",
    "    \n",
    "    \n",
    "#     #ordinally encode policy coverage\n",
    "    order = {'Mini':1,'Median2':2,'Median1':3,'Maxi':4}\n",
    "    df2['order_pol_coverage'] = df['pol_coverage'].apply(lambda x : order[x])\n",
    "\n",
    "    unwantedFeatures= ['id_policy','pol_coverage','pol_pay_freq','pol_usage','pol_insee_code','drv_sex1',\n",
    "                   'drv_age2','drv_sex2','drv_age_lic2','vh_fuel','vh_make','vh_model','vh_type']+['commune_code',\n",
    "       'canton_code', 'city_district_code', 'regional_department_code']+['Yearly']+['made_claim','claim_amount']#+['drv_drv2']\n",
    "    \n",
    "    y1 = df2['made_claim']\n",
    "    y2 = df2['claim_amount']\n",
    "    df2 = df2.drop(unwantedFeatures,axis=1)\n",
    "    return y1, y2, df2\n",
    "\n",
    "\n",
    "\n",
    "df = pd.read_csv(\"training_data.csv\")\n",
    "y1, y2, df2 = transform(df)\n",
    "df2.head()"
   ]
  },
  {
   "cell_type": "code",
   "execution_count": 72,
   "metadata": {},
   "outputs": [],
   "source": [
    "from sklearn.metrics import f1_score, confusion_matrix, classification_report, r2_score, roc_auc_score,roc_curve,mean_squared_error,plot_precision_recall_curve\n",
    "from sklearn.model_selection import cross_val_score,train_test_split,learning_curve\n",
    "booleanFeatures = ['pol_payd','Professional','WorkPrivate','M','diesel','order_pol_coverage','tourism']#+['Retired','Maxi', 'Median1', 'Median2', 'Mini'] # omitted - + ['drv_drv2','vh_make','vh_model','canton_code','commune_code',city_district_code','regional_department_code','Biannual', 'Monthly','Quarterly']\n",
    "numericFeatures = ['pol_duration', 'vh_din', 'pol_bonus', 'population', 'pol_sit_duration', 'vh_value', 'vh_sale_begin', 'vh_sale_end', 'vh_cyl', 'vh_speed', 'drv_age1', 'vh_weight', 'vh_age', 'drv_age_lic1'] #+ ['order_pol_coverage','town_surface_area','town_mean_altitude']\n",
    "X4 = df2[numericFeatures+booleanFeatures].copy()"
   ]
  },
  {
   "cell_type": "code",
   "execution_count": 73,
   "metadata": {},
   "outputs": [],
   "source": [
    "#denoise vehicle age factors;\n",
    "from sklearn.decomposition import PCA\n",
    "from sklearn.preprocessing import PolynomialFeatures\n",
    "\n",
    "\n",
    "#Normalised features\n",
    "df3 = df2.copy()\n",
    "df3[numericFeatures] = ((df3[numericFeatures]-df3[numericFeatures].mean())/df3[numericFeatures].std())\n",
    "df3['order_pol_coverage']/=4\n",
    "\n",
    "#transformations\n",
    "df4 = df2.copy()\n",
    "df4['population'] = np.log(df4['population']+1)\n",
    "df4['vh_din'] = np.log(df4['vh_din'])\n",
    "df4['vh_value'] = np.log(df4['vh_value'])\n",
    "df4['vh_weight'] = np.log(df4['vh_weight'])\n",
    "df4['vh_age'] = np.log(df4['vh_age'])\n",
    "df4['vh_sale_begin'] = np.log(df4['vh_sale_begin'])\n",
    "df4[numericFeatures] = ((df4[numericFeatures]-df4[numericFeatures].mean())/df4[numericFeatures].std())\n",
    "df4['order_pol_coverage']/=4\n",
    "\n",
    "    \n",
    "    \n",
    "    \n",
    "#PCA transformed\n",
    "pca = PCA()\n",
    "X2 = pca.fit_transform(df3[numericFeatures])[:,:12]\n",
    "X3 = pd.concat([df3[booleanFeatures].copy(),pd.DataFrame(X2,index=df3[booleanFeatures].index)],axis=1)\n",
    "\n",
    "#polynomial features\n",
    "X4 = df3[numericFeatures+booleanFeatures].copy()\n",
    "# feats = list(X4.columns)\n",
    "# for i in range(len(numericFeatures)):\n",
    "#     for j in range(i+1,len(numericFeatures+booleanFeatures)):\n",
    "#         X4[feats[i]+\"_and_\"+feats[j]] = X4[feats[i]] * X4[feats[j]]\n",
    "poly = PolynomialFeatures(degree=2,interaction_only=True,include_bias=False)\n",
    "X5 = pd.DataFrame(poly.fit_transform(X4),index=X4.index)"
   ]
  },
  {
   "cell_type": "code",
   "execution_count": 5,
   "metadata": {},
   "outputs": [],
   "source": [
    "def diagnosis(y1,preds):\n",
    "    ax = sns.heatmap(confusion_matrix(y1,np.round(preds)),cmap = \"coolwarm\", annot = True,fmt=\"d\", linewidths = 0.5)\n",
    "    ax.set_title(\"Confusion Matrix\")\n",
    "    bottom, top = ax.get_ylim()\n",
    "    ax.set_ylim(bottom + 0.5, top - 0.5)\n",
    "    print(\"MSE %f\"%(mean_squared_error(y1,preds)))\n",
    "    print(\"F1 Score: %f\"%(f1_score(y1,np.round(preds))))\n",
    "    print(classification_report(y1,np.round(preds)))\n",
    "    \n",
    "def plot_learning_curve(train_sizes,train_scores,test_scores):\n",
    "    train_scores_mean = np.mean(train_scores, axis=1)\n",
    "    train_scores_std = np.std(train_scores, axis=1)\n",
    "    test_scores_mean = np.mean(test_scores, axis=1)\n",
    "    test_scores_std = np.std(test_scores, axis=1)\n",
    "\n",
    "\n",
    "    fig, axes = plt.subplots(figsize=(20,3))\n",
    "\n",
    "    axes.set_title(\"Learning Curve\")\n",
    "    axes.set_xlabel(\"Training examples\")\n",
    "    axes.set_ylabel(\"Score\")\n",
    "    axes.grid()\n",
    "    axes.fill_between(train_sizes, train_scores_mean - train_scores_std,\n",
    "                             train_scores_mean + train_scores_std, alpha=0.1,\n",
    "                             color=\"r\")\n",
    "    axes.fill_between(train_sizes, test_scores_mean - test_scores_std,\n",
    "                             test_scores_mean + test_scores_std, alpha=0.1,\n",
    "                             color=\"g\")\n",
    "    axes.plot(train_sizes, train_scores_mean, 'o-', color=\"r\",\n",
    "                     label=\"Training score\")\n",
    "    axes.plot(train_sizes, test_scores_mean, 'o-', color=\"g\",\n",
    "                     label=\"Cross-validation score\")\n",
    "    axes.legend(loc=\"best\")"
   ]
  },
  {
   "cell_type": "code",
   "execution_count": 58,
   "metadata": {},
   "outputs": [],
   "source": [
    "y3 = y2[y1==1]\n",
    "X5 = X5.loc[y3.index]"
   ]
  },
  {
   "cell_type": "code",
   "execution_count": 7,
   "metadata": {},
   "outputs": [],
   "source": [
    "import tensorflow as tf\n",
    "from tensorflow import keras\n",
    "from tensorflow.keras.models import Model\n",
    "from tensorflow.keras.layers import Input,Dense, Dropout\n",
    "from sklearn.model_selection import train_test_split"
   ]
  },
  {
   "cell_type": "code",
   "execution_count": 8,
   "metadata": {},
   "outputs": [],
   "source": [
    "\n",
    "\n",
    "METRICS = [\n",
    "      keras.metrics.TruePositives(name='tp'),\n",
    "      keras.metrics.FalsePositives(name='fp'),\n",
    "      keras.metrics.TrueNegatives(name='tn'),\n",
    "      keras.metrics.FalseNegatives(name='fn'), \n",
    "      keras.metrics.BinaryAccuracy(name='accuracy'),\n",
    "      keras.metrics.Precision(name='precision'),\n",
    "      keras.metrics.Recall(name='recall'),\n",
    "      keras.metrics.AUC(name='auc'),\n",
    "]\n"
   ]
  },
  {
   "cell_type": "code",
   "execution_count": 74,
   "metadata": {
    "scrolled": true
   },
   "outputs": [
    {
     "name": "stdout",
     "output_type": "stream",
     "text": [
      "Model: \"model_9\"\n",
      "_________________________________________________________________\n",
      "Layer (type)                 Output Shape              Param #   \n",
      "=================================================================\n",
      "input_12 (InputLayer)        [(None, 21)]              0         \n",
      "_________________________________________________________________\n",
      "dense_21 (Dense)             (None, 1)                 22        \n",
      "=================================================================\n",
      "Total params: 22\n",
      "Trainable params: 22\n",
      "Non-trainable params: 0\n",
      "_________________________________________________________________\n"
     ]
    }
   ],
   "source": [
    "# sgd = tf.keras.optimizers.SGD(learning_rate=1e-3)\n",
    "adam = tf.keras.optimizers.Adam()\n",
    "rmsprop = tf.keras.optimizers.RMSprop(learning_rate=0.1)\n",
    "pos = (y1==1).sum()\n",
    "neg = (y1==0).sum()\n",
    "initial_bias = np.log([pos/neg])\n",
    "\n",
    "input_data = Input(shape=(X4.shape[1],))\n",
    "\n",
    "# d = Dense(16,activation='relu')(c)\n",
    "# e = Dense(16,activation='relu')(d)\n",
    "# c = Dropout(0.5)(b)\n",
    "# b = Dense(units=1,\n",
    "#           activation='sigmoid',\n",
    "#           bias_initializer=tf.keras.initializers.Constant(value=initial_bias),        \n",
    "#          )(input_data)\n",
    "# c = Dense(units=1,activation='sigmoid')(b)\n",
    "# d = Dense(units=1,activation='sigmoid')(c)\n",
    "# e = Dense(units=1,activation='sigmoid')(d)\n",
    "output = Dense(units=1,activation='sigmoid')(input_data)\n",
    "# output = Dense(units=1,activation='sigmoid')(b)\n",
    "\n",
    "model = Model(inputs=input_data,outputs=output)\n",
    "\n",
    "\n",
    "model.compile(optimizer=adam,loss='binary_crossentropy',metrics=METRICS)\n",
    "model.summary()"
   ]
  },
  {
   "cell_type": "code",
   "execution_count": 75,
   "metadata": {
    "scrolled": false
   },
   "outputs": [],
   "source": [
    "EPOCHS = 100\n",
    "BATCH_SIZE = 2048\n",
    "\n",
    "import datetime\n",
    "\n",
    "early_stopping = tf.keras.callbacks.EarlyStopping(\n",
    "    monitor='val_auc', \n",
    "    verbose=1,\n",
    "    patience=50,\n",
    "    mode='max',\n",
    "    restore_best_weights=True)\n",
    "\n",
    "\n",
    "# log_dir=\"logs/fit/\" + datetime.datetime.now().strftime(\"%Y%m%d-%H%M%S\")\n",
    "# tensorboard_callback = tf.keras.callbacks.TensorBoard(log_dir=log_dir, histogram_freq=1)\n",
    "\n",
    "history = tf.keras.callbacks.History()\n",
    "\n",
    "\n",
    "X_train, X_test,y_train,y_test = train_test_split(X4,y1,test_size=0.3,stratify=y1,shuffle=True)\n",
    "results = model.fit(X_train,y_train,\n",
    "                    class_weight={0:1,1:8},\n",
    "                    validation_data=(X_test,y_test),\n",
    "                    epochs=EPOCHS,\n",
    "                    batch_size=BATCH_SIZE,\n",
    "                    verbose=0,\n",
    "                   callbacks=[early_stopping,history])"
   ]
  },
  {
   "cell_type": "code",
   "execution_count": 76,
   "metadata": {
    "scrolled": true
   },
   "outputs": [
    {
     "name": "stdout",
     "output_type": "stream",
     "text": [
      "MSE 0.199722\n",
      "F1 Score: 0.215690\n",
      "              precision    recall  f1-score   support\n",
      "\n",
      "           0       0.93      0.69      0.79     21638\n",
      "           1       0.14      0.49      0.22      2178\n",
      "\n",
      "    accuracy                           0.67     23816\n",
      "   macro avg       0.53      0.59      0.50     23816\n",
      "weighted avg       0.86      0.67      0.74     23816\n",
      "\n"
     ]
    },
    {
     "data": {
      "image/png": "[encoded data removed]",
      "text/plain": [
       "<Figure size 432x288 with 2 Axes>"
      ]
     },
     "metadata": {
      "needs_background": "light"
     },
     "output_type": "display_data"
    }
   ],
   "source": [
    "diagnosis(y_test,model.predict(X_test))"
   ]
  },
  {
   "cell_type": "code",
   "execution_count": 77,
   "metadata": {},
   "outputs": [
    {
     "name": "stdout",
     "output_type": "stream",
     "text": [
      "MSE 0.200153\n",
      "F1 Score: 0.218193\n",
      "              precision    recall  f1-score   support\n",
      "\n",
      "           0       0.93      0.68      0.79     50487\n",
      "           1       0.14      0.51      0.22      5082\n",
      "\n",
      "    accuracy                           0.67     55569\n",
      "   macro avg       0.54      0.60      0.50     55569\n",
      "weighted avg       0.86      0.67      0.74     55569\n",
      "\n"
     ]
    },
    {
     "data": {
      "image/png": "[encoded data removed]",
      "text/plain": [
       "<Figure size 432x288 with 2 Axes>"
      ]
     },
     "metadata": {
      "needs_background": "light"
     },
     "output_type": "display_data"
    }
   ],
   "source": [
    "diagnosis(y_train,model.predict(X_train))"
   ]
  },
  {
   "cell_type": "code",
   "execution_count": 78,
   "metadata": {
    "scrolled": false
   },
   "outputs": [
    {
     "name": "stdout",
     "output_type": "stream",
     "text": [
      "MSE 0.200024\n",
      "F1 Score: 0.217451\n",
      "              precision    recall  f1-score   support\n",
      "\n",
      "           0       0.93      0.69      0.79     72125\n",
      "           1       0.14      0.50      0.22      7260\n",
      "\n",
      "    accuracy                           0.67     79385\n",
      "   macro avg       0.54      0.59      0.50     79385\n",
      "weighted avg       0.86      0.67      0.74     79385\n",
      "\n"
     ]
    },
    {
     "data": {
      "image/png": "[encoded data removed]",
      "text/plain": [
       "<Figure size 432x288 with 2 Axes>"
      ]
     },
     "metadata": {
      "needs_background": "light"
     },
     "output_type": "display_data"
    }
   ],
   "source": [
    "diagnosis(y1,model.predict(X4))"
   ]
  },
  {
   "cell_type": "code",
   "execution_count": 79,
   "metadata": {
    "scrolled": true
   },
   "outputs": [
    {
     "data": {
      "text/plain": [
       "<BarContainer object of 21 artists>"
      ]
     },
     "execution_count": 79,
     "metadata": {},
     "output_type": "execute_result"
    },
    {
     "data": {
      "image/png": "[encoded data removed]",
      "text/plain": [
       "<Figure size 432x288 with 1 Axes>"
      ]
     },
     "metadata": {
      "needs_background": "light"
     },
     "output_type": "display_data"
    }
   ],
   "source": [
    "featImportances = dict(sorted(zip(list(X4.columns),model.layers[1].get_weights()[0].reshape(1,-1)[0]),key=lambda k : abs(k[1]),reverse=False))\n",
    "plt.barh(list(featImportances.keys()),[abs(x) for x in featImportances.values()])"
   ]
  },
  {
   "cell_type": "code",
   "execution_count": 113,
   "metadata": {},
   "outputs": [
    {
     "name": "stdout",
     "output_type": "stream",
     "text": [
      "Model: \"model_17\"\n",
      "_________________________________________________________________\n",
      "Layer (type)                 Output Shape              Param #   \n",
      "=================================================================\n",
      "input_20 (InputLayer)        [(None, 22)]              0         \n",
      "_________________________________________________________________\n",
      "dense_29 (Dense)             (None, 1)                 23        \n",
      "=================================================================\n",
      "Total params: 23\n",
      "Trainable params: 23\n",
      "Non-trainable params: 0\n",
      "_________________________________________________________________\n"
     ]
    }
   ],
   "source": [
    "import tensorflow as tf\n",
    "from tensorflow.keras.losses import Huber,MeanSquaredLogarithmicError\n",
    "huber = Huber()\n",
    "a = Input(shape=(X4.shape[1],))\n",
    "b = Dense(1,activation='linear')(a)\n",
    "\n",
    "model = Model(inputs=a,outputs=b)\n",
    "model.compile(optimizer='Adam',loss=MeanSquaredLogarithmicError())\n",
    "model.summary()"
   ]
  },
  {
   "cell_type": "code",
   "execution_count": 114,
   "metadata": {},
   "outputs": [
    {
     "name": "stdout",
     "output_type": "stream",
     "text": [
      "Restoring model weights from the end of the best epoch.\n",
      "Epoch 00051: early stopping\n"
     ]
    }
   ],
   "source": [
    "EPOCHS = 100\n",
    "BATCH_SIZE = 2048\n",
    "\n",
    "import datetime\n",
    "\n",
    "early_stopping2 = tf.keras.callbacks.EarlyStopping(\n",
    "    monitor='val_loss', \n",
    "    verbose=1,\n",
    "    patience=50,\n",
    "    mode='max',\n",
    "    restore_best_weights=True)\n",
    "\n",
    "\n",
    "# log_dir=\"logs/fit/\" + datetime.datetime.now().strftime(\"%Y%m%d-%H%M%S\")\n",
    "# tensorboard_callback = tf.keras.callbacks.TensorBoard(log_dir=log_dir, histogram_freq=1)\n",
    "\n",
    "history2 = tf.keras.callbacks.History()\n",
    "\n",
    "\n",
    "X_train, X_test,y_train,y_test = train_test_split(X4,y2,test_size=0.5,stratify=y1,shuffle=True)\n",
    "results = model.fit(X_train,y_train,\n",
    "                    validation_data=(X_test,y_test),\n",
    "                    epochs=EPOCHS,\n",
    "                    batch_size=BATCH_SIZE,\n",
    "                    verbose=0,\n",
    "                   callbacks=[early_stopping2,history2])"
   ]
  },
  {
   "cell_type": "code",
   "execution_count": 115,
   "metadata": {},
   "outputs": [
    {
     "data": {
      "text/plain": [
       "[array([[ 0.19319867],\n",
       "        [ 0.08934554],\n",
       "        [ 0.28100303],\n",
       "        [-0.20517786],\n",
       "        [-0.13031916],\n",
       "        [-0.03696618],\n",
       "        [-0.05583894],\n",
       "        [-0.3303552 ],\n",
       "        [ 0.36836994],\n",
       "        [-0.26425043],\n",
       "        [-0.13836688],\n",
       "        [ 0.13664594],\n",
       "        [ 0.24458858],\n",
       "        [ 0.3194755 ],\n",
       "        [ 0.39205012],\n",
       "        [-0.19768967],\n",
       "        [-0.23046753],\n",
       "        [ 0.4104949 ],\n",
       "        [ 0.04985841],\n",
       "        [-0.27113834],\n",
       "        [ 0.5203064 ],\n",
       "        [-0.22215074]], dtype=float32), array([0.019679], dtype=float32)]"
      ]
     },
     "execution_count": 115,
     "metadata": {},
     "output_type": "execute_result"
    }
   ],
   "source": [
    "model.layers[-1].get_weights()"
   ]
  },
  {
   "cell_type": "code",
   "execution_count": 116,
   "metadata": {
    "scrolled": true
   },
   "outputs": [
    {
     "name": "stdout",
     "output_type": "stream",
     "text": [
      "R2 score: test -0.007219247806896423\n",
      "R2 score: train -0.036321777913085995\n",
      "R2 score: whole -0.011262175710697875\n"
     ]
    },
    {
     "data": {
      "text/plain": [
       "<matplotlib.collections.PathCollection at 0x142734890>"
      ]
     },
     "execution_count": 116,
     "metadata": {},
     "output_type": "execute_result"
    },
    {
     "data": {
      "image/png": "[encoded data removed]",
      "text/plain": [
       "<Figure size 432x288 with 1 Axes>"
      ]
     },
     "metadata": {
      "needs_background": "light"
     },
     "output_type": "display_data"
    }
   ],
   "source": [
    "print(\"R2 score: test\",r2_score(y_test,model.predict(X_test)))\n",
    "print(\"R2 score: train\",r2_score(y_train,model.predict(X_train)))\n",
    "preds = model.predict(X4)\n",
    "print(\"R2 score: whole\",r2_score(y2,preds))\n",
    "\n",
    "fig,axes = plt.subplots()\n",
    "axes.set_title('Preds vs Actual')\n",
    "plt.scatter(preds,y2)"
   ]
  },
  {
   "cell_type": "code",
   "execution_count": 12,
   "metadata": {
    "scrolled": true
   },
   "outputs": [
    {
     "data": {
      "text/plain": [
       "Reusing TensorBoard on port 6006 (pid 37761), started 0:03:41 ago. (Use '!kill 37761' to kill it.)"
      ]
     },
     "metadata": {},
     "output_type": "display_data"
    },
    {
     "data": {
      "text/html": [
       "\n",
       "        <iframe\n",
       "            width=\"100%\"\n",
       "            height=\"800\"\n",
       "            src=\"http://localhost:6006\"\n",
       "            frameborder=\"0\"\n",
       "            allowfullscreen\n",
       "        ></iframe>\n",
       "        "
      ],
      "text/plain": [
       "<IPython.lib.display.IFrame at 0x1364874d0>"
      ]
     },
     "metadata": {},
     "output_type": "display_data"
    }
   ],
   "source": [
    "\n",
    "%load_ext tensorboard\n",
    "%tensorboard --logdir logs/fit"
   ]
  },
  {
   "cell_type": "code",
   "execution_count": 81,
   "metadata": {},
   "outputs": [],
   "source": [
    "X4['preds'] = model.predict(X4)"
   ]
  },
  {
   "cell_type": "code",
   "execution_count": 168,
   "metadata": {
    "scrolled": true
   },
   "outputs": [],
   "source": [
    "\n",
    "from tensorflow.keras.layers import Lambda\n",
    "import tensorflow.keras.backend as K\n",
    "sgd = tf.keras.optimizers.SGD(learning_rate=1e-3)\n",
    "adam = tf.keras.optimizers.Adam()\n",
    "rmsprop = tf.keras.optimizers.RMSprop(learning_rate=0.1)\n",
    "pos = (y1==1).sum()\n",
    "neg = (y1==0).sum()\n",
    "initial_bias = np.log([pos/neg])\n",
    "\n",
    "latent_dim = 10\n",
    "intermediate_dim = 24\n",
    "input_shape = X4.shape[1]\n",
    "original_dim = X4.shape[1]\n",
    "# input_data = Input(shape=(X4.shape[1],))\n",
    "# encoded = Dense(encoding_dim,activation='relu')(input_data)\n",
    "# decoded = Dense(units=X4.shape[1],activation='linear')(encoded)\n",
    "# model = Model(inputs=input_data,outputs=decoded)\n",
    "\n",
    "inputs = Input(shape=input_shape, name='encoder_input')\n",
    "x = Dense(intermediate_dim, activation='relu')(inputs)\n",
    "z_mean = Dense(latent_dim, name='z_mean')(x)\n",
    "z_log_var = Dense(latent_dim, name='z_log_var')(x)\n",
    "\n",
    "def sampling(args):\n",
    "    z_mean, z_log_sigma = args\n",
    "    batch = K.shape(z_mean)[0]\n",
    "    dim = K.int_shape(z_mean)[1]\n",
    "    epsilon = K.random_normal(shape=(batch, dim))\n",
    "    return z_mean + K.exp(0.5 * z_log_var) * epsilon\n",
    "\n",
    "z = Lambda(sampling, output_shape=(latent_dim,))([z_mean, z_log_var])\n",
    "\n",
    "decoder_h = Dense(intermediate_dim, activation='relu')\n",
    "decoder_mean = Dense(original_dim, activation='linear')\n",
    "h_decoded = decoder_h(z)\n",
    "x_decoded_mean = decoder_mean(h_decoded)\n",
    "\n",
    "vae = Model(inputs, x_decoded_mean)\n",
    "\n",
    "# encoder, from inputs to latent space\n",
    "encoder = Model(inputs, z_mean)\n",
    "\n",
    "# generator, from latent space to reconstructed inputs\n",
    "decoder_input = Input(shape=(latent_dim,))\n",
    "_h_decoded = decoder_h(decoder_input)\n",
    "_x_decoded_mean = decoder_mean(_h_decoded)\n",
    "generator = Model(decoder_input, _x_decoded_mean)\n",
    "\n"
   ]
  },
  {
   "cell_type": "code",
   "execution_count": 169,
   "metadata": {},
   "outputs": [
    {
     "name": "stdout",
     "output_type": "stream",
     "text": [
      "Model: \"model_42\"\n",
      "__________________________________________________________________________________________________\n",
      "Layer (type)                    Output Shape         Param #     Connected to                     \n",
      "==================================================================================================\n",
      "encoder_input (InputLayer)      [(None, 22)]         0                                            \n",
      "__________________________________________________________________________________________________\n",
      "dense_71 (Dense)                (None, 24)           552         encoder_input[0][0]              \n",
      "__________________________________________________________________________________________________\n",
      "z_mean (Dense)                  (None, 10)           250         dense_71[0][0]                   \n",
      "__________________________________________________________________________________________________\n",
      "z_log_var (Dense)               (None, 10)           250         dense_71[0][0]                   \n",
      "__________________________________________________________________________________________________\n",
      "lambda_12 (Lambda)              (None, 10)           0           z_mean[0][0]                     \n",
      "                                                                 z_log_var[0][0]                  \n",
      "__________________________________________________________________________________________________\n",
      "dense_72 (Dense)                (None, 24)           264         lambda_12[0][0]                  \n",
      "__________________________________________________________________________________________________\n",
      "dense_73 (Dense)                (None, 22)           550         dense_72[0][0]                   \n",
      "==================================================================================================\n",
      "Total params: 1,866\n",
      "Trainable params: 1,866\n",
      "Non-trainable params: 0\n",
      "__________________________________________________________________________________________________\n"
     ]
    }
   ],
   "source": [
    "vae.compile(optimizer='adadelta', loss='mean_squared_error')\n",
    "vae.summary()"
   ]
  },
  {
   "cell_type": "code",
   "execution_count": 170,
   "metadata": {
    "scrolled": false
   },
   "outputs": [
    {
     "name": "stdout",
     "output_type": "stream",
     "text": [
      "Train on 59538 samples, validate on 19847 samples\n",
      "Epoch 1/100\n",
      "59538/59538 [==============================] - 1s 20us/sample - loss: 1.2782 - val_loss: 1.2818\n",
      "Epoch 2/100\n",
      "59538/59538 [==============================] - 0s 3us/sample - loss: 1.2793 - val_loss: 1.2849\n",
      "Epoch 3/100\n",
      "59538/59538 [==============================] - 0s 3us/sample - loss: 1.2797 - val_loss: 1.2754\n",
      "Epoch 4/100\n",
      "59538/59538 [==============================] - 0s 3us/sample - loss: 1.2825 - val_loss: 1.2780\n",
      "Epoch 5/100\n",
      "59538/59538 [==============================] - 0s 4us/sample - loss: 1.2791 - val_loss: 1.2726\n",
      "Epoch 6/100\n",
      "59538/59538 [==============================] - 0s 4us/sample - loss: 1.2749 - val_loss: 1.2729\n",
      "Epoch 7/100\n",
      "59538/59538 [==============================] - 0s 3us/sample - loss: 1.2733 - val_loss: 1.2715\n",
      "Epoch 8/100\n",
      "59538/59538 [==============================] - 0s 3us/sample - loss: 1.2701 - val_loss: 1.2736\n",
      "Epoch 9/100\n",
      "59538/59538 [==============================] - 0s 3us/sample - loss: 1.2671 - val_loss: 1.2776\n",
      "Epoch 10/100\n",
      "59538/59538 [==============================] - 0s 4us/sample - loss: 1.2705 - val_loss: 1.2658\n",
      "Epoch 11/100\n",
      "59538/59538 [==============================] - 0s 3us/sample - loss: 1.2651 - val_loss: 1.2624\n",
      "Epoch 12/100\n",
      "59538/59538 [==============================] - 0s 4us/sample - loss: 1.2665 - val_loss: 1.2647\n",
      "Epoch 13/100\n",
      "59538/59538 [==============================] - 0s 4us/sample - loss: 1.2639 - val_loss: 1.2635\n",
      "Epoch 14/100\n",
      "59538/59538 [==============================] - 0s 3us/sample - loss: 1.2622 - val_loss: 1.2673\n",
      "Epoch 15/100\n",
      "59538/59538 [==============================] - 0s 3us/sample - loss: 1.2599 - val_loss: 1.2544\n",
      "Epoch 16/100\n",
      "59538/59538 [==============================] - 0s 3us/sample - loss: 1.2584 - val_loss: 1.2581\n",
      "Epoch 17/100\n",
      "59538/59538 [==============================] - 0s 3us/sample - loss: 1.2582 - val_loss: 1.2527\n",
      "Epoch 18/100\n",
      "59538/59538 [==============================] - 0s 3us/sample - loss: 1.2570 - val_loss: 1.2617\n",
      "Epoch 19/100\n",
      "59538/59538 [==============================] - 0s 3us/sample - loss: 1.2525 - val_loss: 1.2575\n",
      "Epoch 20/100\n",
      "59538/59538 [==============================] - 0s 5us/sample - loss: 1.2500 - val_loss: 1.2469\n",
      "Epoch 21/100\n",
      "59538/59538 [==============================] - 0s 4us/sample - loss: 1.2512 - val_loss: 1.2530\n",
      "Epoch 22/100\n",
      "59538/59538 [==============================] - 0s 4us/sample - loss: 1.2483 - val_loss: 1.2504\n",
      "Epoch 23/100\n",
      "59538/59538 [==============================] - 0s 4us/sample - loss: 1.2478 - val_loss: 1.2459\n",
      "Epoch 24/100\n",
      "59538/59538 [==============================] - 0s 3us/sample - loss: 1.2458 - val_loss: 1.2418\n",
      "Epoch 25/100\n",
      "59538/59538 [==============================] - 0s 5us/sample - loss: 1.2441 - val_loss: 1.2462\n",
      "Epoch 26/100\n",
      "59538/59538 [==============================] - 0s 4us/sample - loss: 1.2398 - val_loss: 1.2373\n",
      "Epoch 27/100\n",
      "59538/59538 [==============================] - 0s 4us/sample - loss: 1.2394 - val_loss: 1.2418\n",
      "Epoch 28/100\n",
      "59538/59538 [==============================] - 0s 3us/sample - loss: 1.2394 - val_loss: 1.2378\n",
      "Epoch 29/100\n",
      "59538/59538 [==============================] - 0s 4us/sample - loss: 1.2372 - val_loss: 1.2324\n",
      "Epoch 30/100\n",
      "59538/59538 [==============================] - 0s 4us/sample - loss: 1.2321 - val_loss: 1.2312\n",
      "Epoch 31/100\n",
      "59538/59538 [==============================] - 0s 4us/sample - loss: 1.2342 - val_loss: 1.2259\n",
      "Epoch 32/100\n",
      "59538/59538 [==============================] - 0s 4us/sample - loss: 1.2297 - val_loss: 1.2313\n",
      "Epoch 33/100\n",
      "59538/59538 [==============================] - 0s 4us/sample - loss: 1.2274 - val_loss: 1.2284\n",
      "Epoch 34/100\n",
      "59538/59538 [==============================] - 0s 3us/sample - loss: 1.2260 - val_loss: 1.2312\n",
      "Epoch 35/100\n",
      "59538/59538 [==============================] - 0s 5us/sample - loss: 1.2198 - val_loss: 1.2301\n",
      "Epoch 36/100\n",
      "59538/59538 [==============================] - 0s 3us/sample - loss: 1.2237 - val_loss: 1.2223\n",
      "Epoch 37/100\n",
      "59538/59538 [==============================] - 0s 3us/sample - loss: 1.2262 - val_loss: 1.2206\n",
      "Epoch 38/100\n",
      "59538/59538 [==============================] - 0s 4us/sample - loss: 1.2205 - val_loss: 1.2133\n",
      "Epoch 39/100\n",
      "59538/59538 [==============================] - 0s 3us/sample - loss: 1.2156 - val_loss: 1.2167\n",
      "Epoch 40/100\n",
      "59538/59538 [==============================] - 0s 3us/sample - loss: 1.2131 - val_loss: 1.2191\n",
      "Epoch 41/100\n",
      "59538/59538 [==============================] - 0s 5us/sample - loss: 1.2137 - val_loss: 1.2078\n",
      "Epoch 42/100\n",
      "59538/59538 [==============================] - 0s 4us/sample - loss: 1.2143 - val_loss: 1.2073\n",
      "Epoch 43/100\n",
      "59538/59538 [==============================] - 0s 3us/sample - loss: 1.2084 - val_loss: 1.2089\n",
      "Epoch 44/100\n",
      "59538/59538 [==============================] - 0s 6us/sample - loss: 1.2072 - val_loss: 1.2071\n",
      "Epoch 45/100\n",
      "59538/59538 [==============================] - 0s 4us/sample - loss: 1.2072 - val_loss: 1.2076\n",
      "Epoch 46/100\n",
      "59538/59538 [==============================] - 0s 3us/sample - loss: 1.2048 - val_loss: 1.2055\n",
      "Epoch 47/100\n",
      "59538/59538 [==============================] - 0s 5us/sample - loss: 1.2045 - val_loss: 1.2048\n",
      "Epoch 48/100\n",
      "59538/59538 [==============================] - 0s 7us/sample - loss: 1.2002 - val_loss: 1.2013\n",
      "Epoch 49/100\n",
      "59538/59538 [==============================] - 0s 4us/sample - loss: 1.2007 - val_loss: 1.1971\n",
      "Epoch 50/100\n",
      "59538/59538 [==============================] - 0s 3us/sample - loss: 1.1980 - val_loss: 1.1994\n",
      "Epoch 51/100\n",
      "59538/59538 [==============================] - 0s 3us/sample - loss: 1.1932 - val_loss: 1.1939\n",
      "Epoch 52/100\n",
      "59538/59538 [==============================] - 0s 3us/sample - loss: 1.1959 - val_loss: 1.1933\n",
      "Epoch 53/100\n",
      "59538/59538 [==============================] - 0s 5us/sample - loss: 1.1892 - val_loss: 1.2008\n",
      "Epoch 54/100\n",
      "53248/59538 [=========================>....] - ETA: 0s - loss: 1.1869Restoring model weights from the end of the best epoch.\n",
      "59538/59538 [==============================] - 0s 8us/sample - loss: 1.1866 - val_loss: 1.1910\n",
      "Epoch 00054: early stopping\n"
     ]
    }
   ],
   "source": [
    "results = vae.fit(X_train,X_train,shuffle=True,batch_size=BATCH_SIZE,epochs=EPOCHS,validation_data=(X_test,X_test),callbacks=[history,early_stopping])"
   ]
  },
  {
   "cell_type": "code",
   "execution_count": 171,
   "metadata": {},
   "outputs": [],
   "source": [
    "x_test_encoded = encoder.predict(X_test, batch_size=BATCH_SIZE)"
   ]
  },
  {
   "cell_type": "code",
   "execution_count": 172,
   "metadata": {
    "scrolled": true
   },
   "outputs": [
    {
     "data": {
      "text/plain": [
       "<matplotlib.collections.PathCollection at 0x145d69f10>"
      ]
     },
     "execution_count": 172,
     "metadata": {},
     "output_type": "execute_result"
    },
    {
     "data": {
      "image/png": "[encoded data removed]",
      "text/plain": [
       "<Figure size 432x288 with 1 Axes>"
      ]
     },
     "metadata": {
      "needs_background": "light"
     },
     "output_type": "display_data"
    }
   ],
   "source": [
    "plt.scatter(x_test_encoded[:, 0], x_test_encoded[:, 1], c=y_test,alpha=0.5)"
   ]
  },
  {
   "cell_type": "code",
   "execution_count": 173,
   "metadata": {
    "scrolled": false
   },
   "outputs": [
    {
     "data": {
      "text/plain": [
       "LogisticRegression(C=1.0, class_weight={0: 1, 1: 9}, dual=False,\n",
       "                   fit_intercept=True, intercept_scaling=1, l1_ratio=None,\n",
       "                   max_iter=100, multi_class='auto', n_jobs=None, penalty='l2',\n",
       "                   random_state=None, solver='saga', tol=0.0001, verbose=0,\n",
       "                   warm_start=False)"
      ]
     },
     "execution_count": 173,
     "metadata": {},
     "output_type": "execute_result"
    }
   ],
   "source": [
    "from sklearn.linear_model import LogisticRegression\n",
    "logit = LogisticRegression(solver='saga',class_weight={0:1,1:9})\n",
    "logit.fit(x_test_encoded,y_test)"
   ]
  },
  {
   "cell_type": "code",
   "execution_count": 174,
   "metadata": {
    "scrolled": true
   },
   "outputs": [
    {
     "name": "stdout",
     "output_type": "stream",
     "text": [
      "MSE 0.222807\n",
      "F1 Score: 0.198072\n",
      "              precision    recall  f1-score   support\n",
      "\n",
      "           0       0.93      0.64      0.76     18040\n",
      "           1       0.12      0.50      0.20      1807\n",
      "\n",
      "    accuracy                           0.63     19847\n",
      "   macro avg       0.53      0.57      0.48     19847\n",
      "weighted avg       0.85      0.63      0.71     19847\n",
      "\n"
     ]
    },
    {
     "data": {
      "image/png": "[encoded data removed]",
      "text/plain": [
       "<Figure size 432x288 with 2 Axes>"
      ]
     },
     "metadata": {
      "needs_background": "light"
     },
     "output_type": "display_data"
    }
   ],
   "source": [
    "diagnosis(y_test,logit.predict_proba(x_test_encoded)[:,1])"
   ]
  },
  {
   "cell_type": "code",
   "execution_count": 175,
   "metadata": {},
   "outputs": [
    {
     "name": "stdout",
     "output_type": "stream",
     "text": [
      "MSE 0.221785\n",
      "F1 Score: 0.203114\n",
      "              precision    recall  f1-score   support\n",
      "\n",
      "           0       0.93      0.65      0.76     54085\n",
      "           1       0.13      0.51      0.20      5453\n",
      "\n",
      "    accuracy                           0.64     59538\n",
      "   macro avg       0.53      0.58      0.48     59538\n",
      "weighted avg       0.86      0.64      0.71     59538\n",
      "\n"
     ]
    },
    {
     "data": {
      "image/png": "[encoded data removed]",
      "text/plain": [
       "<Figure size 432x288 with 2 Axes>"
      ]
     },
     "metadata": {
      "needs_background": "light"
     },
     "output_type": "display_data"
    }
   ],
   "source": [
    "diagnosis(y_train,logit.predict_proba(encoder.predict(X_train))[:,1])"
   ]
  },
  {
   "cell_type": "code",
   "execution_count": 107,
   "metadata": {},
   "outputs": [
    {
     "name": "stdout",
     "output_type": "stream",
     "text": [
      "Restoring model weights from the end of the best epoch.\n",
      "Epoch 00051: early stopping\n"
     ]
    }
   ],
   "source": [
    "from sklearn.model_selection import train_test_split\n",
    "X_train,X_test,y_train,y_test = train_test_split(X4,y1,test_size=0.25)\n",
    "\n",
    "early_stopping = tf.keras.callbacks.EarlyStopping(\n",
    "    monitor='loss', \n",
    "    verbose=1,\n",
    "    patience=50,\n",
    "    mode='max',\n",
    "    restore_best_weights=True)\n",
    "history = tf.keras.callbacks.History()\n",
    "results = model.fit(X_train,X_train,epochs=EPOCHS,batch_size=BATCH_SIZE,shuffle=True,verbose=0,callbacks=[early_stopping,history],validation_data=(X_test,X_test))"
   ]
  },
  {
   "cell_type": "code",
   "execution_count": 99,
   "metadata": {},
   "outputs": [
    {
     "data": {
      "image/png": "[encoded data removed]",
      "text/plain": [
       "<Figure size 432x288 with 1 Axes>"
      ]
     },
     "metadata": {
      "needs_background": "light"
     },
     "output_type": "display_data"
    }
   ],
   "source": [
    "colors = plt.rcParams['axes.prop_cycle'].by_key()['color']\n",
    "\n",
    "def plot_loss(history):\n",
    "  # Use a log scale to show the wide range of values.\n",
    "    plt.plot(history.epoch,  history.history['loss'],label = 'Train LOSS')\n",
    "    plt.plot(history.epoch,  history.history['val_loss'],linestyle=\"--\",label='Val Loss')\n",
    "    plt.xlabel('Epoch')\n",
    "    plt.ylabel('Loss')\n",
    "    plt.legend()\n",
    "plot_loss(history2)"
   ]
  },
  {
   "cell_type": "code",
   "execution_count": 77,
   "metadata": {},
   "outputs": [
    {
     "data": {
      "text/plain": [
       "array([[7.939221 , 8.381655 , 5.8507094, ..., 4.8754563, 9.91482  ,\n",
       "        5.9532123]], dtype=float32)"
      ]
     },
     "execution_count": 77,
     "metadata": {},
     "output_type": "execute_result"
    }
   ],
   "source": [
    "model.predict(X5).reshape(1,-1)"
   ]
  },
  {
   "cell_type": "code",
   "execution_count": 81,
   "metadata": {},
   "outputs": [
    {
     "data": {
      "text/plain": [
       "count    7.260000e+03\n",
       "mean     1.709292e+04\n",
       "std      1.020823e+06\n",
       "min      2.912950e+00\n",
       "25%      1.303500e+02\n",
       "50%      3.613745e+02\n",
       "75%      1.022758e+03\n",
       "max      8.495670e+07\n",
       "dtype: float64"
      ]
     },
     "execution_count": 81,
     "metadata": {},
     "output_type": "execute_result"
    }
   ],
   "source": [
    "pd.Series(np.exp(model.predict(X5).reshape(1,-1)[0])).describe()"
   ]
  },
  {
   "cell_type": "code",
   "execution_count": 102,
   "metadata": {},
   "outputs": [],
   "source": [
    "pos = (y1==1).sum()\n",
    "neg = (y1==0).sum()"
   ]
  },
  {
   "cell_type": "code",
   "execution_count": 12,
   "metadata": {},
   "outputs": [],
   "source": []
  },
  {
   "cell_type": "code",
   "execution_count": 95,
   "metadata": {
    "scrolled": true
   },
   "outputs": [
    {
     "name": "stdout",
     "output_type": "stream",
     "text": [
      "Model: \"sequential_8\"\n",
      "_________________________________________________________________\n",
      "Layer (type)                 Output Shape              Param #   \n",
      "=================================================================\n",
      "dense_34 (Dense)             (None, 16)                368       \n",
      "_________________________________________________________________\n",
      "dropout_13 (Dropout)         (None, 16)                0         \n",
      "_________________________________________________________________\n",
      "dense_35 (Dense)             (None, 1)                 17        \n",
      "=================================================================\n",
      "Total params: 385\n",
      "Trainable params: 385\n",
      "Non-trainable params: 0\n",
      "_________________________________________________________________\n"
     ]
    }
   ],
   "source": [
    "import tensorflow as tf\n",
    "from tensorflow import keras\n",
    "from tensorflow.keras.models import Model\n",
    "from tensorflow.keras.layers import Input,Dense, Dropout\n",
    "\n",
    "def make_model(metrics = METRICS, output_bias=None):\n",
    "    if output_bias is not None:\n",
    "        output_bias = tf.keras.initializers.Constant(output_bias)\n",
    "    model = keras.Sequential([\n",
    "        keras.layers.Dense(\n",
    "          16, activation='relu',\n",
    "          input_shape=(len(numericFeatures+booleanFeatures),)),\n",
    "        keras.layers.Dropout(0.5),\n",
    "        keras.layers.Dense(1, activation='sigmoid',\n",
    "                           bias_initializer=output_bias),\n",
    "    ])\n",
    "\n",
    "    model.compile(\n",
    "        optimizer=keras.optimizers.Adam(lr=1e-3),\n",
    "        loss=keras.losses.BinaryCrossentropy(),\n",
    "        metrics=metrics)\n",
    "    return model\n",
    "\n",
    "initial_bias = np.log([pos/neg])\n",
    "\n",
    "model = make_model(output_bias=initial_bias)\n",
    "model.summary()"
   ]
  },
  {
   "cell_type": "code",
   "execution_count": 47,
   "metadata": {
    "scrolled": true
   },
   "outputs": [
    {
     "name": "stdout",
     "output_type": "stream",
     "text": [
      "0.1431969111969112\n"
     ]
    },
    {
     "data": {
      "text/plain": [
       "array([[49328, 22797],\n",
       "       [ 4942,  2318]])"
      ]
     },
     "execution_count": 47,
     "metadata": {},
     "output_type": "execute_result"
    }
   ],
   "source": [
    "print(f1_score(y1,np.round(model.predict(X4)[:,0])))\n",
    "confusion_matrix(y1,np.round(model.predict(X4)))"
   ]
  },
  {
   "cell_type": "code",
   "execution_count": 83,
   "metadata": {},
   "outputs": [
    {
     "data": {
      "text/plain": [
       "0.5099614966634224"
      ]
     },
     "execution_count": 83,
     "metadata": {},
     "output_type": "execute_result"
    }
   ],
   "source": [
    "results = model.evaluate(X_train, y_train, batch_size=BATCH_SIZE, verbose=0)\n",
    "results[0]"
   ]
  },
  {
   "cell_type": "code",
   "execution_count": 97,
   "metadata": {},
   "outputs": [],
   "source": [
    "\n",
    "import os\n",
    "import tempfile\n",
    "initial_weights = os.path.join(tempfile.mkdtemp(),'initial_weights')\n",
    "model.save_weights(initial_weights)\n"
   ]
  },
  {
   "cell_type": "code",
   "execution_count": 30,
   "metadata": {
    "scrolled": true
   },
   "outputs": [
    {
     "name": "stdout",
     "output_type": "stream",
     "text": [
      "0.0\n"
     ]
    },
    {
     "data": {
      "text/plain": [
       "array([[72125,     0],\n",
       "       [ 7260,     0]])"
      ]
     },
     "execution_count": 30,
     "metadata": {},
     "output_type": "execute_result"
    }
   ],
   "source": [
    "print(f1_score(y1,np.round(model.predict(df3[numericFeatures+booleanFeatures]))))\n",
    "confusion_matrix(y1,np.round(model.predict(df3[numericFeatures+booleanFeatures])))"
   ]
  },
  {
   "cell_type": "code",
   "execution_count": 54,
   "metadata": {},
   "outputs": [
    {
     "data": {
      "text/plain": [
       "0.3247110598207406"
      ]
     },
     "execution_count": 54,
     "metadata": {},
     "output_type": "execute_result"
    }
   ],
   "source": []
  },
  {
   "cell_type": "code",
   "execution_count": 16,
   "metadata": {},
   "outputs": [],
   "source": [
    "from sklearn.metrics import confusion_matrix,f1_score\n"
   ]
  },
  {
   "cell_type": "code",
   "execution_count": 18,
   "metadata": {},
   "outputs": [
    {
     "ename": "ModuleNotFoundError",
     "evalue": "No module named 'tensorflow_probability'",
     "output_type": "error",
     "traceback": [
      "\u001b[0;31m---------------------------------------------------------------------------\u001b[0m",
      "\u001b[0;31mModuleNotFoundError\u001b[0m                       Traceback (most recent call last)",
      "\u001b[0;32m<ipython-input-18-41494c8c96ff>\u001b[0m in \u001b[0;36m<module>\u001b[0;34m\u001b[0m\n\u001b[0;32m----> 1\u001b[0;31m \u001b[0;32mimport\u001b[0m \u001b[0mtensorflow_probability\u001b[0m \u001b[0;32mas\u001b[0m \u001b[0mtfp\u001b[0m\u001b[0;34m\u001b[0m\u001b[0;34m\u001b[0m\u001b[0m\n\u001b[0m",
      "\u001b[0;31mModuleNotFoundError\u001b[0m: No module named 'tensorflow_probability'"
     ]
    }
   ],
   "source": [
    "import tensorflow_probability as tfp"
   ]
  },
  {
   "cell_type": "markdown",
   "metadata": {},
   "source": [
    "# Reading\n",
    "\n",
    "https://www.kaggle.com/mlg-ulb/creditcardfraud\n",
    "\n",
    "Oversample positive class\n",
    "Undersample negative class"
   ]
  },
  {
   "cell_type": "code",
   "execution_count": 238,
   "metadata": {},
   "outputs": [
    {
     "data": {
      "text/plain": [
       "0.9000      2468.748000\n",
       "0.9500      3501.980000\n",
       "0.9750      4475.830000\n",
       "0.9975      9371.879325\n",
       "1.0000    226841.890000\n",
       "Name: claim_amount, dtype: float64"
      ]
     },
     "execution_count": 238,
     "metadata": {},
     "output_type": "execute_result"
    }
   ],
   "source": [
    "y2[y2!=0].quantile([0.9,0.95,0.975,0.9975,1])"
   ]
  },
  {
   "cell_type": "code",
   "execution_count": 240,
   "metadata": {},
   "outputs": [
    {
     "data": {
      "text/plain": [
       "64077    226841.89\n",
       "Name: claim_amount, dtype: float64"
      ]
     },
     "execution_count": 240,
     "metadata": {},
     "output_type": "execute_result"
    }
   ],
   "source": [
    "y2.loc[y2==226841.890000]"
   ]
  },
  {
   "cell_type": "code",
   "execution_count": 241,
   "metadata": {},
   "outputs": [
    {
     "data": {
      "text/plain": [
       "pol_bonus                 0.5\n",
       "pol_duration             30.0\n",
       "pol_sit_duration          5.0\n",
       "pol_payd                  1.0\n",
       "drv_drv2                  0.0\n",
       "drv_age1                 71.0\n",
       "drv_age_lic1             50.0\n",
       "vh_age                    9.0\n",
       "vh_cyl                 1360.0\n",
       "vh_din                   89.0\n",
       "vh_sale_begin            10.0\n",
       "vh_sale_end               9.0\n",
       "vh_speed                173.0\n",
       "vh_value              15650.0\n",
       "vh_weight              1215.0\n",
       "town_mean_altitude      231.0\n",
       "town_surface_area       492.0\n",
       "population                5.8\n",
       "Maxi                      1.0\n",
       "Median1                   0.0\n",
       "Median2                   0.0\n",
       "Mini                      0.0\n",
       "Professional              0.0\n",
       "Retired                   1.0\n",
       "WorkPrivate               0.0\n",
       "Biannual                  0.0\n",
       "Monthly                   0.0\n",
       "Quarterly                 0.0\n",
       "tourism                   1.0\n",
       "diesel                    0.0\n",
       "M                         0.0\n",
       "pol_bonus2                1.0\n",
       "order_pol_coverage        4.0\n",
       "Name: 64077, dtype: float64"
      ]
     },
     "execution_count": 241,
     "metadata": {},
     "output_type": "execute_result"
    }
   ],
   "source": [
    "df2.loc[64077]"
   ]
  },
  {
   "cell_type": "code",
   "execution_count": null,
   "metadata": {},
   "outputs": [],
   "source": []
  }
 ],
 "metadata": {
  "kernelspec": {
   "display_name": "Python 3",
   "language": "python",
   "name": "python3"
  },
  "language_info": {
   "codemirror_mode": {
    "name": "ipython",
    "version": 3
   },
   "file_extension": ".py",
   "mimetype": "text/x-python",
   "name": "python",
   "nbconvert_exporter": "python",
   "pygments_lexer": "ipython3",
   "version": "3.7.4"
  }
 },
 "nbformat": 4,
 "nbformat_minor": 2
}
