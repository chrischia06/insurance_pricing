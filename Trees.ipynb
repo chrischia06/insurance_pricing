{
 "cells": [
  {
   "cell_type": "code",
   "execution_count": 2,
   "metadata": {},
   "outputs": [],
   "source": [
    "import numpy as np\n",
    "import sklearn\n",
    "import pandas as pd\n",
    "# from scipy import stats\n",
    "import matplotlib.pyplot as plt\n",
    "import seaborn as sns\n",
    "pd.options.display.max_columns = 100\n",
    "%matplotlib inline"
   ]
  },
  {
   "cell_type": "code",
   "execution_count": 3,
   "metadata": {
    "scrolled": false
   },
   "outputs": [
    {
     "data": {
      "text/html": [
       "<div>\n",
       "<style scoped>\n",
       "    .dataframe tbody tr th:only-of-type {\n",
       "        vertical-align: middle;\n",
       "    }\n",
       "\n",
       "    .dataframe tbody tr th {\n",
       "        vertical-align: top;\n",
       "    }\n",
       "\n",
       "    .dataframe thead th {\n",
       "        text-align: right;\n",
       "    }\n",
       "</style>\n",
       "<table border=\"1\" class=\"dataframe\">\n",
       "  <thead>\n",
       "    <tr style=\"text-align: right;\">\n",
       "      <th></th>\n",
       "      <th>pol_bonus</th>\n",
       "      <th>pol_duration</th>\n",
       "      <th>pol_sit_duration</th>\n",
       "      <th>pol_payd</th>\n",
       "      <th>drv_drv2</th>\n",
       "      <th>drv_age1</th>\n",
       "      <th>drv_age_lic1</th>\n",
       "      <th>vh_age</th>\n",
       "      <th>vh_cyl</th>\n",
       "      <th>vh_din</th>\n",
       "      <th>vh_sale_begin</th>\n",
       "      <th>vh_sale_end</th>\n",
       "      <th>vh_speed</th>\n",
       "      <th>vh_value</th>\n",
       "      <th>vh_weight</th>\n",
       "      <th>town_mean_altitude</th>\n",
       "      <th>town_surface_area</th>\n",
       "      <th>population</th>\n",
       "      <th>Maxi</th>\n",
       "      <th>Median1</th>\n",
       "      <th>Median2</th>\n",
       "      <th>Mini</th>\n",
       "      <th>Professional</th>\n",
       "      <th>Retired</th>\n",
       "      <th>WorkPrivate</th>\n",
       "      <th>Biannual</th>\n",
       "      <th>Monthly</th>\n",
       "      <th>Quarterly</th>\n",
       "      <th>tourism</th>\n",
       "      <th>diesel</th>\n",
       "      <th>M</th>\n",
       "      <th>order_pol_coverage</th>\n",
       "    </tr>\n",
       "  </thead>\n",
       "  <tbody>\n",
       "    <tr>\n",
       "      <th>0</th>\n",
       "      <td>0.5</td>\n",
       "      <td>36</td>\n",
       "      <td>6</td>\n",
       "      <td>0</td>\n",
       "      <td>0</td>\n",
       "      <td>77</td>\n",
       "      <td>55</td>\n",
       "      <td>15</td>\n",
       "      <td>1598</td>\n",
       "      <td>111</td>\n",
       "      <td>16</td>\n",
       "      <td>15</td>\n",
       "      <td>185</td>\n",
       "      <td>17517</td>\n",
       "      <td>1260.0</td>\n",
       "      <td>526.0</td>\n",
       "      <td>3216.0</td>\n",
       "      <td>4.8</td>\n",
       "      <td>1</td>\n",
       "      <td>0</td>\n",
       "      <td>0</td>\n",
       "      <td>0</td>\n",
       "      <td>0</td>\n",
       "      <td>1</td>\n",
       "      <td>0</td>\n",
       "      <td>1</td>\n",
       "      <td>0</td>\n",
       "      <td>0</td>\n",
       "      <td>1</td>\n",
       "      <td>0</td>\n",
       "      <td>1</td>\n",
       "      <td>4</td>\n",
       "    </tr>\n",
       "    <tr>\n",
       "      <th>1</th>\n",
       "      <td>0.5</td>\n",
       "      <td>15</td>\n",
       "      <td>5</td>\n",
       "      <td>0</td>\n",
       "      <td>1</td>\n",
       "      <td>52</td>\n",
       "      <td>33</td>\n",
       "      <td>12</td>\n",
       "      <td>2184</td>\n",
       "      <td>112</td>\n",
       "      <td>12</td>\n",
       "      <td>9</td>\n",
       "      <td>180</td>\n",
       "      <td>21500</td>\n",
       "      <td>1480.0</td>\n",
       "      <td>57.0</td>\n",
       "      <td>4912.0</td>\n",
       "      <td>141.3</td>\n",
       "      <td>1</td>\n",
       "      <td>0</td>\n",
       "      <td>0</td>\n",
       "      <td>0</td>\n",
       "      <td>0</td>\n",
       "      <td>0</td>\n",
       "      <td>1</td>\n",
       "      <td>0</td>\n",
       "      <td>0</td>\n",
       "      <td>0</td>\n",
       "      <td>1</td>\n",
       "      <td>1</td>\n",
       "      <td>1</td>\n",
       "      <td>4</td>\n",
       "    </tr>\n",
       "    <tr>\n",
       "      <th>2</th>\n",
       "      <td>0.5</td>\n",
       "      <td>16</td>\n",
       "      <td>6</td>\n",
       "      <td>0</td>\n",
       "      <td>0</td>\n",
       "      <td>52</td>\n",
       "      <td>34</td>\n",
       "      <td>20</td>\n",
       "      <td>2496</td>\n",
       "      <td>112</td>\n",
       "      <td>32</td>\n",
       "      <td>19</td>\n",
       "      <td>130</td>\n",
       "      <td>23600</td>\n",
       "      <td>2931.0</td>\n",
       "      <td>257.0</td>\n",
       "      <td>4488.0</td>\n",
       "      <td>5.3</td>\n",
       "      <td>0</td>\n",
       "      <td>0</td>\n",
       "      <td>0</td>\n",
       "      <td>1</td>\n",
       "      <td>1</td>\n",
       "      <td>0</td>\n",
       "      <td>0</td>\n",
       "      <td>0</td>\n",
       "      <td>1</td>\n",
       "      <td>0</td>\n",
       "      <td>0</td>\n",
       "      <td>1</td>\n",
       "      <td>1</td>\n",
       "      <td>1</td>\n",
       "    </tr>\n",
       "    <tr>\n",
       "      <th>3</th>\n",
       "      <td>0.5</td>\n",
       "      <td>11</td>\n",
       "      <td>7</td>\n",
       "      <td>0</td>\n",
       "      <td>0</td>\n",
       "      <td>67</td>\n",
       "      <td>46</td>\n",
       "      <td>12</td>\n",
       "      <td>1149</td>\n",
       "      <td>75</td>\n",
       "      <td>14</td>\n",
       "      <td>12</td>\n",
       "      <td>170</td>\n",
       "      <td>13050</td>\n",
       "      <td>930.0</td>\n",
       "      <td>109.0</td>\n",
       "      <td>1339.0</td>\n",
       "      <td>61.2</td>\n",
       "      <td>1</td>\n",
       "      <td>0</td>\n",
       "      <td>0</td>\n",
       "      <td>0</td>\n",
       "      <td>0</td>\n",
       "      <td>0</td>\n",
       "      <td>1</td>\n",
       "      <td>1</td>\n",
       "      <td>0</td>\n",
       "      <td>0</td>\n",
       "      <td>1</td>\n",
       "      <td>0</td>\n",
       "      <td>1</td>\n",
       "      <td>4</td>\n",
       "    </tr>\n",
       "    <tr>\n",
       "      <th>4</th>\n",
       "      <td>0.5</td>\n",
       "      <td>16</td>\n",
       "      <td>6</td>\n",
       "      <td>0</td>\n",
       "      <td>1</td>\n",
       "      <td>60</td>\n",
       "      <td>35</td>\n",
       "      <td>23</td>\n",
       "      <td>1905</td>\n",
       "      <td>93</td>\n",
       "      <td>23</td>\n",
       "      <td>18</td>\n",
       "      <td>185</td>\n",
       "      <td>17974</td>\n",
       "      <td>1035.0</td>\n",
       "      <td>24.0</td>\n",
       "      <td>1849.0</td>\n",
       "      <td>9.7</td>\n",
       "      <td>0</td>\n",
       "      <td>0</td>\n",
       "      <td>1</td>\n",
       "      <td>0</td>\n",
       "      <td>0</td>\n",
       "      <td>0</td>\n",
       "      <td>1</td>\n",
       "      <td>1</td>\n",
       "      <td>0</td>\n",
       "      <td>0</td>\n",
       "      <td>1</td>\n",
       "      <td>1</td>\n",
       "      <td>1</td>\n",
       "      <td>2</td>\n",
       "    </tr>\n",
       "  </tbody>\n",
       "</table>\n",
       "</div>"
      ],
      "text/plain": [
       "   pol_bonus  pol_duration  pol_sit_duration  pol_payd  drv_drv2  drv_age1  \\\n",
       "0        0.5            36                 6         0         0        77   \n",
       "1        0.5            15                 5         0         1        52   \n",
       "2        0.5            16                 6         0         0        52   \n",
       "3        0.5            11                 7         0         0        67   \n",
       "4        0.5            16                 6         0         1        60   \n",
       "\n",
       "   drv_age_lic1  vh_age  vh_cyl  vh_din  vh_sale_begin  vh_sale_end  vh_speed  \\\n",
       "0            55      15    1598     111             16           15       185   \n",
       "1            33      12    2184     112             12            9       180   \n",
       "2            34      20    2496     112             32           19       130   \n",
       "3            46      12    1149      75             14           12       170   \n",
       "4            35      23    1905      93             23           18       185   \n",
       "\n",
       "   vh_value  vh_weight  town_mean_altitude  town_surface_area  population  \\\n",
       "0     17517     1260.0               526.0             3216.0         4.8   \n",
       "1     21500     1480.0                57.0             4912.0       141.3   \n",
       "2     23600     2931.0               257.0             4488.0         5.3   \n",
       "3     13050      930.0               109.0             1339.0        61.2   \n",
       "4     17974     1035.0                24.0             1849.0         9.7   \n",
       "\n",
       "   Maxi  Median1  Median2  Mini  Professional  Retired  WorkPrivate  Biannual  \\\n",
       "0     1        0        0     0             0        1            0         1   \n",
       "1     1        0        0     0             0        0            1         0   \n",
       "2     0        0        0     1             1        0            0         0   \n",
       "3     1        0        0     0             0        0            1         1   \n",
       "4     0        0        1     0             0        0            1         1   \n",
       "\n",
       "   Monthly  Quarterly  tourism  diesel  M  order_pol_coverage  \n",
       "0        0          0        1       0  1                   4  \n",
       "1        0          0        1       1  1                   4  \n",
       "2        1          0        0       1  1                   1  \n",
       "3        0          0        1       0  1                   4  \n",
       "4        0          0        1       1  1                   2  "
      ]
     },
     "execution_count": 3,
     "metadata": {},
     "output_type": "execute_result"
    }
   ],
   "source": [
    "def transform(df):\n",
    "    df2 = df.copy()\n",
    "    #fill na for city data - 395 missing entries - categorical and numerical, for now assume they come from the most frequent town\n",
    "    df2['commune_code'] = df2['commune_code'].fillna(df2['commune_code'].mode()[0])\n",
    "    df2['canton_code'] = df2['canton_code'].fillna(df2['canton_code'].mode()[0])\n",
    "    df2['city_district_code'] = df2['city_district_code'].fillna(df2['city_district_code'].mode()[0])\n",
    "    df2['regional_department_code'] = df2['regional_department_code'].fillna(df2['regional_department_code'].mode()[0])\n",
    "    df2['population'] = df2['population'].fillna(df2['population'].mode()[0])\n",
    "    df2['town_mean_altitude'] = df2['town_mean_altitude'].fillna(df2['town_mean_altitude'].mode()[0])\n",
    "    df2['town_surface_area'] = df2['town_surface_area'].fillna(df2['town_surface_area'].mode()[0])\n",
    "    \n",
    "#     #impute or remove illogical values\n",
    "    df2.loc[df2['vh_weight']==0,'vh_weight'] = df2['vh_weight'].median() # - 2959 missing entries - imputation doesnt give a better correlation\n",
    "    df2 = df2.loc[df2['drv_age1']>=df2['drv_age_lic1']] # 32 missing entires; dropped\n",
    "    df2 = df2.loc[df2['vh_cyl']>0] #3 missing entries\n",
    "    df2.loc[df2['vh_value']==0,'vh_value'] = 18659 #from data exploration\n",
    "\n",
    "#     #one hot encode categorical features; \n",
    "    df2 = pd.concat([df2,pd.get_dummies(df2['pol_coverage'])],axis=1)\n",
    "    df2.loc[df2['pol_usage']=='AllTrips','pol_usage'] = 'Professional' #- only 77 AllTrips; from data description it is similar to professional\n",
    "    df2 = pd.concat([df2,pd.get_dummies(df2['pol_usage'])],axis=1)\n",
    "    df2 = pd.concat([df2,pd.get_dummies(df2['pol_pay_freq'])],axis=1)\n",
    "\n",
    "#     #binarize features\n",
    "    df2['pol_payd'] = (df2['pol_payd'] == 'Yes') * 1 # Yes/ No\n",
    "    df2['drv_drv2'] = (df2['drv_drv2'] == 'Yes') * 1 # Yes / No\n",
    "    df2['tourism'] = (df2['vh_type'] == 'Tourism') * 1 #tourism or commerical\n",
    "    df2['diesel'] = (df2['vh_fuel'] == 'Diesel') * 1 #also hybrids but very low representation - 62 hybrids\n",
    "    df2['M'] = (df2['drv_sex1'] == 'M') * 1 #Male / Female\n",
    "    \n",
    "#     df2['pol_bonus2'] = (df2['pol_bonus'] == 0.5) * 1\n",
    "    \n",
    "    \n",
    "#     #ordinally encode policy coverage\n",
    "    order = {'Mini':1,'Median2':2,'Median1':3,'Maxi':4}\n",
    "    df2['order_pol_coverage'] = df['pol_coverage'].apply(lambda x : order[x])\n",
    "\n",
    "    unwantedFeatures= ['id_policy','pol_coverage','pol_pay_freq','pol_usage','pol_insee_code','drv_sex1',\n",
    "                   'drv_age2','drv_sex2','drv_age_lic2','vh_fuel','vh_make','vh_model','vh_type']+['commune_code',\n",
    "       'canton_code', 'city_district_code', 'regional_department_code']+['Yearly']+['made_claim','claim_amount']#+['drv_drv2']\n",
    "    \n",
    "    y1 = df2['made_claim']\n",
    "    y2 = df2['claim_amount']\n",
    "    df2 = df2.drop(unwantedFeatures,axis=1)\n",
    "    return y1, y2, df2\n",
    "\n",
    "\n",
    "\n",
    "df = pd.read_csv(\"training_data.csv\")\n",
    "y1, y2, df2 = transform(df)\n",
    "df2.head()"
   ]
  },
  {
   "cell_type": "code",
   "execution_count": 4,
   "metadata": {},
   "outputs": [],
   "source": [
    "from sklearn.metrics import f1_score, confusion_matrix, classification_report, r2_score, roc_auc_score,roc_curve,mean_squared_error,plot_precision_recall_curve\n",
    "from sklearn.model_selection import cross_val_score,train_test_split,learning_curve\n",
    "\n",
    "\n",
    "def diagnosis(y1,preds):\n",
    "    ax = sns.heatmap(confusion_matrix(y1,np.round(preds)),cmap = \"coolwarm\", annot = True,fmt=\"d\", linewidths = 0.5)\n",
    "    ax.set_title(\"Confusion Matrix\")\n",
    "    bottom, top = ax.get_ylim()\n",
    "    ax.set_ylim(bottom + 0.5, top - 0.5)\n",
    "    print(\"MSE %f\"%(mean_squared_error(y1,preds)))\n",
    "    print(\"F1 Score: %f\"%(f1_score(y1,np.round(preds))))\n",
    "    print(classification_report(y1,np.round(preds)))\n",
    "    \n",
    "def plot_learning_curve(train_sizes,train_scores,test_scores):\n",
    "    train_scores_mean = np.mean(train_scores, axis=1)\n",
    "    train_scores_std = np.std(train_scores, axis=1)\n",
    "    test_scores_mean = np.mean(test_scores, axis=1)\n",
    "    test_scores_std = np.std(test_scores, axis=1)\n",
    "\n",
    "\n",
    "    fig, axes = plt.subplots(figsize=(20,3))\n",
    "\n",
    "    axes.set_title(\"Learning Curve\")\n",
    "    axes.set_xlabel(\"Training examples\")\n",
    "    axes.set_ylabel(\"Score\")\n",
    "    axes.grid()\n",
    "    axes.fill_between(train_sizes, train_scores_mean - train_scores_std,\n",
    "                             train_scores_mean + train_scores_std, alpha=0.1,\n",
    "                             color=\"r\")\n",
    "    axes.fill_between(train_sizes, test_scores_mean - test_scores_std,\n",
    "                             test_scores_mean + test_scores_std, alpha=0.1,\n",
    "                             color=\"g\")\n",
    "    axes.plot(train_sizes, train_scores_mean, 'o-', color=\"r\",\n",
    "                     label=\"Training score\")\n",
    "    axes.plot(train_sizes, test_scores_mean, 'o-', color=\"g\",\n",
    "                     label=\"Cross-validation score\")\n",
    "    axes.legend(loc=\"best\")"
   ]
  },
  {
   "cell_type": "markdown",
   "metadata": {},
   "source": [
    "# Model\n",
    "\n",
    "Fit classifier with an ensemble method\n",
    "\n",
    "Fit a regressor with ensemble method, adding the output of the priro model\n",
    "\n",
    "Hyperparameters:\n",
    "1. Feature Set\n",
    "2. Training Size\n",
    "3. n_estimators, max_depth"
   ]
  },
  {
   "cell_type": "code",
   "execution_count": 5,
   "metadata": {},
   "outputs": [
    {
     "ename": "KeyError",
     "evalue": "\"['pol_bonus2'] not in index\"",
     "output_type": "error",
     "traceback": [
      "\u001b[0;31m---------------------------------------------------------------------------\u001b[0m",
      "\u001b[0;31mKeyError\u001b[0m                                  Traceback (most recent call last)",
      "\u001b[0;32m<ipython-input-5-b64149e7600c>\u001b[0m in \u001b[0;36m<module>\u001b[0;34m\u001b[0m\n\u001b[1;32m      1\u001b[0m \u001b[0mbooleanFeatures\u001b[0m \u001b[0;34m=\u001b[0m \u001b[0;34m[\u001b[0m\u001b[0;34m'pol_payd'\u001b[0m\u001b[0;34m,\u001b[0m\u001b[0;34m'Professional'\u001b[0m\u001b[0;34m,\u001b[0m\u001b[0;34m'WorkPrivate'\u001b[0m\u001b[0;34m,\u001b[0m\u001b[0;34m'M'\u001b[0m\u001b[0;34m,\u001b[0m\u001b[0;34m'diesel'\u001b[0m\u001b[0;34m,\u001b[0m\u001b[0;34m'order_pol_coverage'\u001b[0m\u001b[0;34m,\u001b[0m\u001b[0;34m'tourism'\u001b[0m\u001b[0;34m,\u001b[0m\u001b[0;34m'pol_bonus2'\u001b[0m\u001b[0;34m,\u001b[0m\u001b[0;34m'drv_drv2'\u001b[0m\u001b[0;34m]\u001b[0m\u001b[0;31m#+['Retired','Maxi', 'Median1', 'Median2', 'Mini'] # omitted - + ['drv_drv2','vh_make','vh_model','canton_code','commune_code',city_district_code','regional_department_code','Biannual', 'Monthly','Quarterly']\u001b[0m\u001b[0;34m\u001b[0m\u001b[0;34m\u001b[0m\u001b[0m\n\u001b[1;32m      2\u001b[0m \u001b[0mnumericFeatures\u001b[0m \u001b[0;34m=\u001b[0m \u001b[0;34m[\u001b[0m\u001b[0;34m'pol_duration'\u001b[0m\u001b[0;34m,\u001b[0m \u001b[0;34m'vh_din'\u001b[0m\u001b[0;34m,\u001b[0m \u001b[0;34m'pol_bonus'\u001b[0m\u001b[0;34m,\u001b[0m \u001b[0;34m'population'\u001b[0m\u001b[0;34m,\u001b[0m \u001b[0;34m'pol_sit_duration'\u001b[0m\u001b[0;34m,\u001b[0m \u001b[0;34m'vh_value'\u001b[0m\u001b[0;34m,\u001b[0m \u001b[0;34m'vh_sale_begin'\u001b[0m\u001b[0;34m,\u001b[0m \u001b[0;34m'vh_sale_end'\u001b[0m\u001b[0;34m,\u001b[0m \u001b[0;34m'vh_cyl'\u001b[0m\u001b[0;34m,\u001b[0m \u001b[0;34m'vh_speed'\u001b[0m\u001b[0;34m,\u001b[0m \u001b[0;34m'drv_age1'\u001b[0m\u001b[0;34m,\u001b[0m \u001b[0;34m'vh_weight'\u001b[0m\u001b[0;34m,\u001b[0m \u001b[0;34m'vh_age'\u001b[0m\u001b[0;34m,\u001b[0m \u001b[0;34m'drv_age_lic1'\u001b[0m\u001b[0;34m,\u001b[0m\u001b[0;34m'town_mean_altitude'\u001b[0m\u001b[0;34m]\u001b[0m \u001b[0;31m#+ ['order_pol_coverage','town_surface_area','town_mean_altitude']\u001b[0m\u001b[0;34m\u001b[0m\u001b[0;34m\u001b[0m\u001b[0m\n\u001b[0;32m----> 3\u001b[0;31m \u001b[0mX4\u001b[0m \u001b[0;34m=\u001b[0m \u001b[0mdf2\u001b[0m\u001b[0;34m[\u001b[0m\u001b[0mnumericFeatures\u001b[0m\u001b[0;34m+\u001b[0m\u001b[0mbooleanFeatures\u001b[0m\u001b[0;34m]\u001b[0m\u001b[0;34m.\u001b[0m\u001b[0mcopy\u001b[0m\u001b[0;34m(\u001b[0m\u001b[0;34m)\u001b[0m\u001b[0;34m\u001b[0m\u001b[0;34m\u001b[0m\u001b[0m\n\u001b[0m",
      "\u001b[0;32m/usr/local/lib/python3.7/site-packages/pandas/core/frame.py\u001b[0m in \u001b[0;36m__getitem__\u001b[0;34m(self, key)\u001b[0m\n\u001b[1;32m   2979\u001b[0m             \u001b[0;32mif\u001b[0m \u001b[0mis_iterator\u001b[0m\u001b[0;34m(\u001b[0m\u001b[0mkey\u001b[0m\u001b[0;34m)\u001b[0m\u001b[0;34m:\u001b[0m\u001b[0;34m\u001b[0m\u001b[0;34m\u001b[0m\u001b[0m\n\u001b[1;32m   2980\u001b[0m                 \u001b[0mkey\u001b[0m \u001b[0;34m=\u001b[0m \u001b[0mlist\u001b[0m\u001b[0;34m(\u001b[0m\u001b[0mkey\u001b[0m\u001b[0;34m)\u001b[0m\u001b[0;34m\u001b[0m\u001b[0;34m\u001b[0m\u001b[0m\n\u001b[0;32m-> 2981\u001b[0;31m             \u001b[0mindexer\u001b[0m \u001b[0;34m=\u001b[0m \u001b[0mself\u001b[0m\u001b[0;34m.\u001b[0m\u001b[0mloc\u001b[0m\u001b[0;34m.\u001b[0m\u001b[0m_convert_to_indexer\u001b[0m\u001b[0;34m(\u001b[0m\u001b[0mkey\u001b[0m\u001b[0;34m,\u001b[0m \u001b[0maxis\u001b[0m\u001b[0;34m=\u001b[0m\u001b[0;36m1\u001b[0m\u001b[0;34m,\u001b[0m \u001b[0mraise_missing\u001b[0m\u001b[0;34m=\u001b[0m\u001b[0;32mTrue\u001b[0m\u001b[0;34m)\u001b[0m\u001b[0;34m\u001b[0m\u001b[0;34m\u001b[0m\u001b[0m\n\u001b[0m\u001b[1;32m   2982\u001b[0m \u001b[0;34m\u001b[0m\u001b[0m\n\u001b[1;32m   2983\u001b[0m         \u001b[0;31m# take() does not accept boolean indexers\u001b[0m\u001b[0;34m\u001b[0m\u001b[0;34m\u001b[0m\u001b[0;34m\u001b[0m\u001b[0m\n",
      "\u001b[0;32m/usr/local/lib/python3.7/site-packages/pandas/core/indexing.py\u001b[0m in \u001b[0;36m_convert_to_indexer\u001b[0;34m(self, obj, axis, is_setter, raise_missing)\u001b[0m\n\u001b[1;32m   1269\u001b[0m                 \u001b[0;31m# When setting, missing keys are not allowed, even with .loc:\u001b[0m\u001b[0;34m\u001b[0m\u001b[0;34m\u001b[0m\u001b[0;34m\u001b[0m\u001b[0m\n\u001b[1;32m   1270\u001b[0m                 \u001b[0mkwargs\u001b[0m \u001b[0;34m=\u001b[0m \u001b[0;34m{\u001b[0m\u001b[0;34m\"raise_missing\"\u001b[0m\u001b[0;34m:\u001b[0m \u001b[0;32mTrue\u001b[0m \u001b[0;32mif\u001b[0m \u001b[0mis_setter\u001b[0m \u001b[0;32melse\u001b[0m \u001b[0mraise_missing\u001b[0m\u001b[0;34m}\u001b[0m\u001b[0;34m\u001b[0m\u001b[0;34m\u001b[0m\u001b[0m\n\u001b[0;32m-> 1271\u001b[0;31m                 \u001b[0;32mreturn\u001b[0m \u001b[0mself\u001b[0m\u001b[0;34m.\u001b[0m\u001b[0m_get_listlike_indexer\u001b[0m\u001b[0;34m(\u001b[0m\u001b[0mobj\u001b[0m\u001b[0;34m,\u001b[0m \u001b[0maxis\u001b[0m\u001b[0;34m,\u001b[0m \u001b[0;34m**\u001b[0m\u001b[0mkwargs\u001b[0m\u001b[0;34m)\u001b[0m\u001b[0;34m[\u001b[0m\u001b[0;36m1\u001b[0m\u001b[0;34m]\u001b[0m\u001b[0;34m\u001b[0m\u001b[0;34m\u001b[0m\u001b[0m\n\u001b[0m\u001b[1;32m   1272\u001b[0m         \u001b[0;32melse\u001b[0m\u001b[0;34m:\u001b[0m\u001b[0;34m\u001b[0m\u001b[0;34m\u001b[0m\u001b[0m\n\u001b[1;32m   1273\u001b[0m             \u001b[0;32mtry\u001b[0m\u001b[0;34m:\u001b[0m\u001b[0;34m\u001b[0m\u001b[0;34m\u001b[0m\u001b[0m\n",
      "\u001b[0;32m/usr/local/lib/python3.7/site-packages/pandas/core/indexing.py\u001b[0m in \u001b[0;36m_get_listlike_indexer\u001b[0;34m(self, key, axis, raise_missing)\u001b[0m\n\u001b[1;32m   1076\u001b[0m \u001b[0;34m\u001b[0m\u001b[0m\n\u001b[1;32m   1077\u001b[0m         self._validate_read_indexer(\n\u001b[0;32m-> 1078\u001b[0;31m             \u001b[0mkeyarr\u001b[0m\u001b[0;34m,\u001b[0m \u001b[0mindexer\u001b[0m\u001b[0;34m,\u001b[0m \u001b[0mo\u001b[0m\u001b[0;34m.\u001b[0m\u001b[0m_get_axis_number\u001b[0m\u001b[0;34m(\u001b[0m\u001b[0maxis\u001b[0m\u001b[0;34m)\u001b[0m\u001b[0;34m,\u001b[0m \u001b[0mraise_missing\u001b[0m\u001b[0;34m=\u001b[0m\u001b[0mraise_missing\u001b[0m\u001b[0;34m\u001b[0m\u001b[0;34m\u001b[0m\u001b[0m\n\u001b[0m\u001b[1;32m   1079\u001b[0m         )\n\u001b[1;32m   1080\u001b[0m         \u001b[0;32mreturn\u001b[0m \u001b[0mkeyarr\u001b[0m\u001b[0;34m,\u001b[0m \u001b[0mindexer\u001b[0m\u001b[0;34m\u001b[0m\u001b[0;34m\u001b[0m\u001b[0m\n",
      "\u001b[0;32m/usr/local/lib/python3.7/site-packages/pandas/core/indexing.py\u001b[0m in \u001b[0;36m_validate_read_indexer\u001b[0;34m(self, key, indexer, axis, raise_missing)\u001b[0m\n\u001b[1;32m   1169\u001b[0m             \u001b[0;32mif\u001b[0m \u001b[0;32mnot\u001b[0m \u001b[0;34m(\u001b[0m\u001b[0mself\u001b[0m\u001b[0;34m.\u001b[0m\u001b[0mname\u001b[0m \u001b[0;34m==\u001b[0m \u001b[0;34m\"loc\"\u001b[0m \u001b[0;32mand\u001b[0m \u001b[0;32mnot\u001b[0m \u001b[0mraise_missing\u001b[0m\u001b[0;34m)\u001b[0m\u001b[0;34m:\u001b[0m\u001b[0;34m\u001b[0m\u001b[0;34m\u001b[0m\u001b[0m\n\u001b[1;32m   1170\u001b[0m                 \u001b[0mnot_found\u001b[0m \u001b[0;34m=\u001b[0m \u001b[0mlist\u001b[0m\u001b[0;34m(\u001b[0m\u001b[0mset\u001b[0m\u001b[0;34m(\u001b[0m\u001b[0mkey\u001b[0m\u001b[0;34m)\u001b[0m \u001b[0;34m-\u001b[0m \u001b[0mset\u001b[0m\u001b[0;34m(\u001b[0m\u001b[0max\u001b[0m\u001b[0;34m)\u001b[0m\u001b[0;34m)\u001b[0m\u001b[0;34m\u001b[0m\u001b[0;34m\u001b[0m\u001b[0m\n\u001b[0;32m-> 1171\u001b[0;31m                 \u001b[0;32mraise\u001b[0m \u001b[0mKeyError\u001b[0m\u001b[0;34m(\u001b[0m\u001b[0;34m\"{} not in index\"\u001b[0m\u001b[0;34m.\u001b[0m\u001b[0mformat\u001b[0m\u001b[0;34m(\u001b[0m\u001b[0mnot_found\u001b[0m\u001b[0;34m)\u001b[0m\u001b[0;34m)\u001b[0m\u001b[0;34m\u001b[0m\u001b[0;34m\u001b[0m\u001b[0m\n\u001b[0m\u001b[1;32m   1172\u001b[0m \u001b[0;34m\u001b[0m\u001b[0m\n\u001b[1;32m   1173\u001b[0m             \u001b[0;31m# we skip the warning on Categorical/Interval\u001b[0m\u001b[0;34m\u001b[0m\u001b[0;34m\u001b[0m\u001b[0;34m\u001b[0m\u001b[0m\n",
      "\u001b[0;31mKeyError\u001b[0m: \"['pol_bonus2'] not in index\""
     ]
    }
   ],
   "source": [
    "booleanFeatures = ['pol_payd','Professional','WorkPrivate','M','diesel','order_pol_coverage','tourism','pol_bonus2','drv_drv2']#+['Retired','Maxi', 'Median1', 'Median2', 'Mini'] # omitted - + ['drv_drv2','vh_make','vh_model','canton_code','commune_code',city_district_code','regional_department_code','Biannual', 'Monthly','Quarterly']\n",
    "numericFeatures = ['pol_duration', 'vh_din', 'pol_bonus', 'population', 'pol_sit_duration', 'vh_value', 'vh_sale_begin', 'vh_sale_end', 'vh_cyl', 'vh_speed', 'drv_age1', 'vh_weight', 'vh_age', 'drv_age_lic1','town_mean_altitude'] #+ ['order_pol_coverage','town_surface_area','town_mean_altitude']\n",
    "X4 = df2[numericFeatures+booleanFeatures].copy()"
   ]
  },
  {
   "cell_type": "markdown",
   "metadata": {},
   "source": [
    "# Gradient Boosting"
   ]
  },
  {
   "cell_type": "code",
   "execution_count": null,
   "metadata": {
    "scrolled": false
   },
   "outputs": [],
   "source": [
    "df2.corrwith(y1,method='spearman').abs().sort_values(ascending=False)"
   ]
  },
  {
   "cell_type": "code",
   "execution_count": 6,
   "metadata": {},
   "outputs": [],
   "source": [
    "booleanFeatures1 = ['pol_payd','Professional','WorkPrivate','M','order_pol_coverage','drv_drv2','diesel']#+['diesel','tourism','pol_bonus2',Retired','Maxi', 'Median1', 'Median2', 'Mini'] # omitted - + ['drv_drv2','vh_make','vh_model','canton_code','commune_code',city_district_code','regional_department_code','Biannual', 'Monthly','Quarterly']\n",
    "numericFeatures1 = ['pol_duration', 'vh_din', 'pol_bonus', 'population', 'pol_sit_duration', 'vh_value', 'vh_sale_begin',  'vh_cyl','vh_sale_end','vh_age', 'vh_speed', 'drv_age1', 'vh_weight','town_mean_altitude'] #['drv_age_lic1','order_pol_coverage','town_surface_area','town_mean_altitude']\n",
    "X4 = df2[numericFeatures1+booleanFeatures1].copy()"
   ]
  },
  {
   "cell_type": "code",
   "execution_count": 7,
   "metadata": {
    "scrolled": true
   },
   "outputs": [
    {
     "data": {
      "text/plain": [
       "GradientBoostingClassifier(ccp_alpha=0.0, criterion='friedman_mse', init=None,\n",
       "                           learning_rate=0.1, loss='deviance', max_depth=6,\n",
       "                           max_features='auto', max_leaf_nodes=None,\n",
       "                           min_impurity_decrease=0.0, min_impurity_split=None,\n",
       "                           min_samples_leaf=1, min_samples_split=2,\n",
       "                           min_weight_fraction_leaf=0.0, n_estimators=500,\n",
       "                           n_iter_no_change=100, presort='deprecated',\n",
       "                           random_state=None, subsample=1, tol=0.0001,\n",
       "                           validation_fraction=0.2, verbose=0,\n",
       "                           warm_start=False)"
      ]
     },
     "execution_count": 7,
     "metadata": {},
     "output_type": "execute_result"
    }
   ],
   "source": [
    "from sklearn.ensemble import GradientBoostingClassifier, RandomForestClassifier,ExtraTreesClassifier\n",
    "\n",
    "\n",
    "X_train, X_test,y_train,y_test = train_test_split(X4,y1,test_size=0.5,stratify=y1,shuffle=True)\n",
    "\n",
    "\n",
    "\n",
    "sample_weights = np.zeros(len(y_train))\n",
    "sample_weights[y_train == 0] = 1\n",
    "sample_weights[y_train == 1] = 8\n",
    "\n",
    "gbc = GradientBoostingClassifier(\n",
    "    learning_rate=0.1,\n",
    "    n_estimators=500,\n",
    "    max_depth=6,\n",
    "    n_iter_no_change=100,\n",
    "    max_features='auto',\n",
    "    subsample=1,\n",
    "    validation_fraction=0.2)\n",
    "gbc\n",
    "# F1 Score: 0.201124 test;  F1 Score: 0.344405 - train, F1 Score: 0.258580 total;  test_size=0.6\n",
    "#MSE 0.174667,  0.159218, 0.168487"
   ]
  },
  {
   "cell_type": "code",
   "execution_count": 8,
   "metadata": {},
   "outputs": [
    {
     "name": "stdout",
     "output_type": "stream",
     "text": [
      "MSE 0.174594\n",
      "F1 Score: 0.201209\n",
      "              precision    recall  f1-score   support\n",
      "\n",
      "           0       0.92      0.76      0.84     36063\n",
      "           1       0.14      0.38      0.20      3630\n",
      "\n",
      "    accuracy                           0.73     39693\n",
      "   macro avg       0.53      0.57      0.52     39693\n",
      "weighted avg       0.85      0.73      0.78     39693\n",
      "\n"
     ]
    },
    {
     "data": {
      "image/png": "[encoded data removed]",
      "text/plain": [
       "<Figure size 432x288 with 2 Axes>"
      ]
     },
     "metadata": {
      "needs_background": "light"
     },
     "output_type": "display_data"
    }
   ],
   "source": [
    "gbc.fit(X_train,y_train,sample_weight=sample_weights)\n",
    "preds = gbc.predict_proba(X_test)[:,1]\n",
    "diagnosis(y_test,preds)"
   ]
  },
  {
   "cell_type": "code",
   "execution_count": null,
   "metadata": {},
   "outputs": [],
   "source": [
    "preds = gbc.predict_proba(X_train)[:,1]\n",
    "diagnosis(y_train,preds)"
   ]
  },
  {
   "cell_type": "code",
   "execution_count": null,
   "metadata": {
    "scrolled": true
   },
   "outputs": [],
   "source": [
    "diagnosis(y1,gbc.predict_proba(X4)[:,1])"
   ]
  },
  {
   "cell_type": "code",
   "execution_count": null,
   "metadata": {},
   "outputs": [],
   "source": [
    "fig,ax = plt.subplots(figsize=(20,10))\n",
    "rfFeatImportances = dict(sorted(zip(list(X4.columns),gbc.feature_importances_),key=lambda k: k[1]))\n",
    "plt.barh(list(rfFeatImportances.keys()),rfFeatImportances.values())"
   ]
  },
  {
   "cell_type": "code",
   "execution_count": null,
   "metadata": {},
   "outputs": [],
   "source": [
    "from sklearn.tree import plot_tree\n",
    "fig,ax = plt.subplots(figsize=(20,10))\n",
    "plot_tree(gbc.estimators_[0][0])"
   ]
  },
  {
   "cell_type": "markdown",
   "metadata": {},
   "source": [
    "## ExtraTrees"
   ]
  },
  {
   "cell_type": "code",
   "execution_count": null,
   "metadata": {},
   "outputs": [],
   "source": [
    "hgbc = ExtraTreesClassifier(n_estimators=500,max_depth=8,class_weight={0:1,1:9})\n",
    "#0.21742582553173864 - 3 fold CV\n",
    "#Test - 0.216443; Train -  0.239785; Total - 0.225755\n",
    "scores = cross_val_score(hgbc,X4,y1,cv=3,scoring='f1')\n",
    "print(scores.mean())\n"
   ]
  },
  {
   "cell_type": "code",
   "execution_count": null,
   "metadata": {},
   "outputs": [],
   "source": [
    "hgbc.fit(X_train,y_train)\n",
    "preds = hgbc.predict(X_test)\n",
    "diagnosis(y_test,preds)"
   ]
  },
  {
   "cell_type": "code",
   "execution_count": null,
   "metadata": {},
   "outputs": [],
   "source": [
    "diagnosis(y_train,hgbc.predict(X_train))"
   ]
  },
  {
   "cell_type": "code",
   "execution_count": null,
   "metadata": {
    "scrolled": true
   },
   "outputs": [],
   "source": [
    "diagnosis(y1,hgbc.predict(X4))"
   ]
  },
  {
   "cell_type": "code",
   "execution_count": null,
   "metadata": {
    "scrolled": true
   },
   "outputs": [],
   "source": [
    "train_sizes,train_scores,test_scores = learning_curve(hgbc,X_train,y_train,train_sizes=[0.2,0.3,0.4,0.5,0.7,0.8],cv=3,scoring='f1',n_jobs=-1)\n",
    "plot_learning_curve(train_sizes,train_scores,test_scores)"
   ]
  },
  {
   "cell_type": "code",
   "execution_count": null,
   "metadata": {},
   "outputs": [],
   "source": [
    "fig,ax = plt.subplots(figsize=(20,10))\n",
    "rfFeatImportances = dict(sorted(zip(list(X4.columns),hgbc.feature_importances_),key=lambda k: k[1]))\n",
    "plt.barh(list(rfFeatImportances.keys()),rfFeatImportances.values())"
   ]
  },
  {
   "cell_type": "markdown",
   "metadata": {},
   "source": [
    "## RandomForest"
   ]
  },
  {
   "cell_type": "code",
   "execution_count": null,
   "metadata": {},
   "outputs": [],
   "source": [
    "\n",
    "rf = RandomForestClassifier(n_estimators=500,\n",
    "                            class_weight={0:0.1,1:0.9},\n",
    "                            max_depth=8,\n",
    "                           max_features='auto',\n",
    "                           min_samples_split=2,\n",
    "                           min_samples_leaf=1)\n",
    "# rfFeatures = ['town_mean_altitude', 'Retired', 'town_surface_area', 'tourism', 'WorkPrivate', 'M', 'pol_duration', 'Median1', 'Professional', 'population', 'Median2', 'pol_bonus', 'diesel', 'vh_cyl', 'vh_weight', 'vh_speed', 'vh_din', 'vh_value', 'Mini', 'Maxi', 'order_pol_coverage', 'vh_age', 'vh_sale_end', 'vh_sale_begin']\n",
    "\n",
    "scores = cross_val_score(rf,X4,y1,scoring='f1',cv=3)\n",
    "print(scores.mean())\n",
    "#0.21819232888690412 - 3 Fold CV\n",
    "#0.217587 Test_size = 0.6;  0.268735 - Train; 0.238009 overall"
   ]
  },
  {
   "cell_type": "code",
   "execution_count": null,
   "metadata": {},
   "outputs": [],
   "source": [
    "rf.fit(X_train,y_train)\n",
    "preds = rf.predict(X_test)\n",
    "diagnosis(y_test,preds)"
   ]
  },
  {
   "cell_type": "code",
   "execution_count": null,
   "metadata": {
    "scrolled": false
   },
   "outputs": [],
   "source": [
    "diagnosis(y_train,rf.predict(X_train))\n"
   ]
  },
  {
   "cell_type": "code",
   "execution_count": null,
   "metadata": {
    "scrolled": true
   },
   "outputs": [],
   "source": [
    "preds = rf.predict_proba(X4)[:,1]\n",
    "diagnosis(y1,preds)"
   ]
  },
  {
   "cell_type": "code",
   "execution_count": null,
   "metadata": {},
   "outputs": [],
   "source": [
    "train_sizes,train_scores,test_scores = learning_curve(rf,X_train,y_train,train_sizes=[0.2,0.4,0.5,0.7,0.8],cv=3,scoring='f1',n_jobs=-1)\n",
    "plot_learning_curve(train_sizes,train_scores,test_scores)"
   ]
  },
  {
   "cell_type": "code",
   "execution_count": null,
   "metadata": {},
   "outputs": [],
   "source": [
    "fig,ax = plt.subplots(figsize=(20,10))\n",
    "rfFeatImportances = dict(sorted(zip(list(X4.columns),rf.feature_importances_),key=lambda k: k[1]))\n",
    "plt.barh(list(rfFeatImportances.keys()),rfFeatImportances.values())"
   ]
  },
  {
   "cell_type": "code",
   "execution_count": null,
   "metadata": {},
   "outputs": [],
   "source": [
    "# average_precision = average_precision_score(y_test, np.round(preds)\n",
    "fig,ax = plt.subplots(figsize=(20,10))\n",
    "ax.set_title('Precision-Recall curve: ')\n",
    "disp = plot_precision_recall_curve(rf, X_test, y_test,ax=ax)\n",
    "disp = plot_precision_recall_curve(hgbc, X_test, y_test,ax=ax)\n",
    "disp = plot_precision_recall_curve(gbc, X_test, y_test,ax=ax)"
   ]
  },
  {
   "cell_type": "markdown",
   "metadata": {},
   "source": [
    "## XGBoost"
   ]
  },
  {
   "cell_type": "code",
   "execution_count": null,
   "metadata": {
    "scrolled": true
   },
   "outputs": [],
   "source": [
    "y1.sum()/y1.shape[0]"
   ]
  },
  {
   "cell_type": "code",
   "execution_count": null,
   "metadata": {
    "scrolled": false
   },
   "outputs": [],
   "source": [
    "import xgboost\n",
    "xgbc = xgboost.XGBClassifier(n_estimators=250,\n",
    "                     max_depth=5,\n",
    "                     n_jobs=-1,\n",
    "                     scale_pos_weight=10,\n",
    "                    verbosity=0)\n",
    "scores = cross_val_score(xgbc,X4,y1,cv=3,scoring='f1')\n",
    "print(scores.mean())\n",
    "#CV 3 folds F1 Score - 0.21081828972419817\n",
    "#Test - 0.207682, Train -0.366479\n",
    "#F1 Score: 0.271086"
   ]
  },
  {
   "cell_type": "code",
   "execution_count": null,
   "metadata": {},
   "outputs": [],
   "source": [
    "xgbc.fit(X_train,y_train)\n",
    "preds = xgbc.predict(X_test)\n",
    "diagnosis(y_test,preds)"
   ]
  },
  {
   "cell_type": "code",
   "execution_count": null,
   "metadata": {},
   "outputs": [],
   "source": [
    "diagnosis(y_train,xgbc.predict(X_train))"
   ]
  },
  {
   "cell_type": "code",
   "execution_count": null,
   "metadata": {},
   "outputs": [],
   "source": [
    "diagnosis(y1,xgbc.predict(X4))"
   ]
  },
  {
   "cell_type": "code",
   "execution_count": null,
   "metadata": {
    "scrolled": true
   },
   "outputs": [],
   "source": [
    "fig,ax = plt.subplots(figsize=(20,10))\n",
    "disp = plot_precision_recall_curve(xgbc, X_test, y_test,ax=ax)"
   ]
  },
  {
   "cell_type": "code",
   "execution_count": null,
   "metadata": {
    "scrolled": true
   },
   "outputs": [],
   "source": [
    "fig,ax = plt.subplots(figsize=(20,10))\n",
    "xgb.plot_importance(xgbc,ax=ax)"
   ]
  },
  {
   "cell_type": "code",
   "execution_count": null,
   "metadata": {},
   "outputs": [],
   "source": [
    "X4['preds'] = gbc.predict_proba(X4)[:,1]"
   ]
  },
  {
   "cell_type": "markdown",
   "metadata": {},
   "source": [
    "# GradientBoostingRegressor"
   ]
  },
  {
   "cell_type": "code",
   "execution_count": null,
   "metadata": {},
   "outputs": [],
   "source": [
    "X4['preds'].corr(y2,method='spearman')"
   ]
  },
  {
   "cell_type": "code",
   "execution_count": null,
   "metadata": {
    "scrolled": true
   },
   "outputs": [],
   "source": [
    "df2.corrwith(y2,method='spearman').abs().sort_values(ascending=False)"
   ]
  },
  {
   "cell_type": "code",
   "execution_count": null,
   "metadata": {
    "scrolled": true
   },
   "outputs": [],
   "source": [
    "# booleanFeatures2 = ['pol_payd','Professional','M','order_pol_coverage']#+['WorkPrivate','tourism','drv_drv2','diesel','pol_bonus2']\n",
    "# numericFeatures2 = ['pol_duration', 'vh_din', 'pol_bonus', 'population', 'pol_sit_duration', 'vh_value', 'vh_sale_begin', 'vh_sale_end', 'vh_cyl', 'vh_speed', 'drv_age1', 'vh_weight', 'vh_age', 'drv_age_lic1','town_mean_altitude']\n",
    "# X5 = df2[numericFeatures2+booleanFeatures2].copy()\n",
    "\n",
    "# y3 = np.log1p(np.log1p(y2))"
   ]
  },
  {
   "cell_type": "code",
   "execution_count": null,
   "metadata": {
    "scrolled": true
   },
   "outputs": [],
   "source": [
    "xgbr = xgb.XGBRegressor(booster='gbtree',\n",
    "                        objective='reg:squarederror',\n",
    "                        n_estimators=250,\n",
    "                        max_depth=3,\n",
    "                        n_jobs=-1,\n",
    "                       base_score=111,\n",
    "                        reg_lambda=0,\n",
    "                       tree_method='auto')\n",
    "\n",
    "\n",
    "## reg_linear\n",
    "#R2 score: test -0.36960265966819006\n",
    "#R2 score: train 0.7181145853602448\n",
    "#R2 score: train 0.42226508586504097\n",
    "\n",
    "## reg tweedle\n",
    "#R2 score: test 0.0011444542173265626\n",
    "#R2 score: train 0.4230753652735849\n",
    "#R2 score: whole 0.1081898662435753\n",
    "\n",
    "#reg tweedle2\n",
    "#R2 score: test 0.0046847270411131126\n",
    "# R2 score: train 0.25352758528892305\n",
    "# R2 score: whole 0.06784544045526653\n",
    "\n",
    "#Cross val - 0.0023689254022928874 2 fold\n",
    "scores = cross_val_score(xgbr,X4,y2,cv=3,n_jobs=-1,scoring='r2')\n",
    "print(scores.mean())"
   ]
  },
  {
   "cell_type": "code",
   "execution_count": null,
   "metadata": {
    "scrolled": true
   },
   "outputs": [],
   "source": [
    "X_train, X_test,y_train,y_test = train_test_split(X4,y2,test_size=0.5,shuffle=True)\n",
    "xgbr.fit(X_train,y_train)\n",
    "print(\"R2 score: test\",r2_score(y_test,xgbr.predict(X_test)))\n",
    "print(\"R2 score: train\",r2_score(y_train,xgbr.predict(X_train)))\n",
    "preds = xgbr.predict(X4)\n",
    "print(\"R2 score: whole\",r2_score(y2,preds))\n",
    "\n",
    "fig,axes = plt.subplots()\n",
    "axes.set_title('Preds vs Actual')\n",
    "plt.scatter(preds,y2)"
   ]
  },
  {
   "cell_type": "code",
   "execution_count": null,
   "metadata": {},
   "outputs": [],
   "source": [
    "fig,axes = plt.subplots()\n",
    "axes.set_title('Residual plot')\n",
    "plt.scatter(y2-preds,y2)"
   ]
  },
  {
   "cell_type": "code",
   "execution_count": null,
   "metadata": {
    "scrolled": true
   },
   "outputs": [],
   "source": [
    "fig,ax = plt.subplots(figsize=(20,10))\n",
    "xgb.plot_importance(xgbr,ax=ax)"
   ]
  },
  {
   "cell_type": "code",
   "execution_count": null,
   "metadata": {
    "scrolled": true
   },
   "outputs": [],
   "source": [
    "train_sizes,train_scores,test_scores = learning_curve(xgbr,X4,y2,train_sizes=[0.2,0.3,0.5,0.7,0.8],scoring='r2',cv=3,n_jobs=-1)\n",
    "plot_learning_curve(train_sizes,train_scores,test_scores)"
   ]
  },
  {
   "cell_type": "code",
   "execution_count": null,
   "metadata": {
    "scrolled": false
   },
   "outputs": [],
   "source": [
    "fig,ax = plt.subplots(figsize=(50,10))\n",
    "xgb.plot_tree(xgbr,ax=ax)"
   ]
  },
  {
   "cell_type": "markdown",
   "metadata": {},
   "source": [
    "# Gradient Boosting Regression"
   ]
  },
  {
   "cell_type": "code",
   "execution_count": 14,
   "metadata": {},
   "outputs": [],
   "source": [
    "GradientBoostingRegressor?"
   ]
  },
  {
   "cell_type": "code",
   "execution_count": 9,
   "metadata": {},
   "outputs": [],
   "source": [
    "X4['preds'] = gbc.predict_proba(X4)[:,1]"
   ]
  },
  {
   "cell_type": "code",
   "execution_count": 61,
   "metadata": {},
   "outputs": [],
   "source": [
    "X5 = X4.copy()"
   ]
  },
  {
   "cell_type": "code",
   "execution_count": 68,
   "metadata": {
    "scrolled": false
   },
   "outputs": [
    {
     "name": "stdout",
     "output_type": "stream",
     "text": [
      "-0.5268432372304209\n"
     ]
    }
   ],
   "source": [
    "from sklearn.linear_model import LinearRegression\n",
    "from sklearn.ensemble import GradientBoostingRegressor\n",
    "lr = LinearRegression()\n",
    "gbr = GradientBoostingRegressor(n_estimators=500,max_depth=5,loss='ls',n_iter_no_change=100)\n",
    "\n",
    "scores = cross_val_score(gbr,X4,y2,cv=3,n_jobs=-1,scoring='r2')\n",
    "print(scores.mean())\n",
    "\n",
    "#R2 score 0.5782434142409241\n",
    "#gbr = GradientBoostingRegressor(n_estimators=300,max_depth=3,loss='ls',init=lr)"
   ]
  },
  {
   "cell_type": "code",
   "execution_count": 69,
   "metadata": {
    "scrolled": true
   },
   "outputs": [
    {
     "name": "stdout",
     "output_type": "stream",
     "text": [
      "R2 score: test -0.08110781913898757\n",
      "R2 score: train 0.8845323858619275\n",
      "R2 score: whole 0.628645463649084\n"
     ]
    },
    {
     "data": {
      "text/plain": [
       "<matplotlib.collections.PathCollection at 0x11c902410>"
      ]
     },
     "execution_count": 69,
     "metadata": {},
     "output_type": "execute_result"
    },
    {
     "data": {
      "image/png": "[encoded data removed]",
      "text/plain": [
       "<Figure size 432x288 with 1 Axes>"
      ]
     },
     "metadata": {
      "needs_background": "light"
     },
     "output_type": "display_data"
    }
   ],
   "source": [
    "X_train, X_test,y_train,y_test = train_test_split(X4,y2,test_size=0.5,stratify=y1,shuffle=True)\n",
    "gbr.fit(X_train,y_train)\n",
    "\n",
    "\n",
    "\n",
    "print(\"R2 score: test\",r2_score(y_test,gbr.predict(X_test)))\n",
    "print(\"R2 score: train\",r2_score(y_train,gbr.predict(X_train)))\n",
    "preds = gbr.predict(X4)\n",
    "print(\"R2 score: whole\",r2_score(y2,preds))\n",
    "\n",
    "fig,axes = plt.subplots()\n",
    "axes.set_title('Preds vs Actual')\n",
    "plt.scatter(preds,y2)"
   ]
  },
  {
   "cell_type": "code",
   "execution_count": 70,
   "metadata": {
    "scrolled": true
   },
   "outputs": [
    {
     "data": {
      "text/plain": [
       "<matplotlib.collections.PathCollection at 0x120f3a8d0>"
      ]
     },
     "execution_count": 70,
     "metadata": {},
     "output_type": "execute_result"
    },
    {
     "data": {
      "image/png": "[encoded data removed]",
      "text/plain": [
       "<Figure size 432x288 with 1 Axes>"
      ]
     },
     "metadata": {
      "needs_background": "light"
     },
     "output_type": "display_data"
    }
   ],
   "source": [
    "fig,axes = plt.subplots()\n",
    "axes.set_title('Residual Plot')\n",
    "plt.scatter(y2-preds,y2)"
   ]
  },
  {
   "cell_type": "code",
   "execution_count": 71,
   "metadata": {},
   "outputs": [
    {
     "data": {
      "text/plain": [
       "<BarContainer object of 22 artists>"
      ]
     },
     "execution_count": 71,
     "metadata": {},
     "output_type": "execute_result"
    },
    {
     "data": {
      "image/png": "[encoded data removed]",
      "text/plain": [
       "<Figure size 1440x720 with 1 Axes>"
      ]
     },
     "metadata": {
      "needs_background": "light"
     },
     "output_type": "display_data"
    }
   ],
   "source": [
    "fig,ax = plt.subplots(figsize=(20,10))\n",
    "rfFeatImportances = dict(sorted(zip(list(X4.columns),gbr.feature_importances_),key=lambda k: k[1]))\n",
    "plt.barh(list(rfFeatImportances.keys()),rfFeatImportances.values())"
   ]
  },
  {
   "cell_type": "code",
   "execution_count": null,
   "metadata": {},
   "outputs": [],
   "source": [
    "train_sizes,train_scores,test_scores = learning_curve(rfr,X5,y2,train_sizes=[0.2,0.3,0.5,0.7,0.8],scoring='r2',cv=3,n_jobs=-1)\n",
    "plot_learning_curve(train_sizes,train_scores,test_scores)"
   ]
  },
  {
   "cell_type": "code",
   "execution_count": 14,
   "metadata": {
    "scrolled": false
   },
   "outputs": [
    {
     "name": "stdout",
     "output_type": "stream",
     "text": [
      "R2 score 0.06054796811067431\n"
     ]
    },
    {
     "data": {
      "text/plain": [
       "<matplotlib.collections.PathCollection at 0x125e27a10>"
      ]
     },
     "execution_count": 14,
     "metadata": {},
     "output_type": "execute_result"
    },
    {
     "data": {
      "image/png": "[encoded data removed]",
      "text/plain": [
       "<Figure size 432x288 with 1 Axes>"
      ]
     },
     "metadata": {
      "needs_background": "light"
     },
     "output_type": "display_data"
    }
   ],
   "source": [
    "lr = LinearRegression()\n",
    "lr.fit(X4,np.log1p(y2))\n",
    "preds = lr.predict(X4)\n",
    "print(\"R2 score\",r2_score(np.log1p(y2),preds))\n",
    "plt.scatter(preds,np.log1p(y2))"
   ]
  },
  {
   "cell_type": "code",
   "execution_count": null,
   "metadata": {
    "scrolled": true
   },
   "outputs": [],
   "source": [
    "from sklearn.ensemble import RandomForestRegressor\n",
    "rfr = RandomForestRegressor(n_estimators=300,max_depth=4,n_jobs=-1,oob_score=False,criterion='mse')\n",
    "\n",
    "#rfr = RandomForestRegressor(n_estimators=100,max_depth=4,n_jobs=-1,oob_score=False,criterion='mse')\n",
    "# R2 score: test -0.037424266969034115\n",
    "# R2 score: train 0.40043381074433515\n",
    "# R2 score: whole 0.06840551827537289\n",
    "#CV 2 fold - -0.07774507642929063\n",
    "\n",
    "# R2 score: test -0.030616402080559935\n",
    "# R2 score: train 0.12165898061488489\n",
    "# R2 score: whole 0.08189159337483476\n",
    "#CV 2 fold: -0.09246238676875262\n",
    "scores = cross_val_score(rfr,X4,y2,cv=2,n_jobs=-1,scoring='r2')\n",
    "print(scores.mean())\n"
   ]
  },
  {
   "cell_type": "code",
   "execution_count": null,
   "metadata": {
    "scrolled": false
   },
   "outputs": [],
   "source": [
    "X_train, X_test,y_train,y_test = train_test_split(X5,y2,test_size=0.5,shuffle=True)\n",
    "rfr.fit(X_train,y_train)\n",
    "print(\"R2 score: test\",r2_score(y_test,rfr.predict(X_test)))\n",
    "print(\"R2 score: train\",r2_score(y_train,rfr.predict(X_train)))\n",
    "preds = rfr.predict(X5)\n",
    "print(\"R2 score: whole\",r2_score(y2,preds))\n",
    "\n",
    "plt.scatter(preds,y2)"
   ]
  },
  {
   "cell_type": "code",
   "execution_count": null,
   "metadata": {
    "scrolled": true
   },
   "outputs": [],
   "source": [
    "train_sizes,train_scores,test_scores = learning_curve(rfr,X5,y2,train_sizes=[0.2,0.3,0.5,0.7,0.8],scoring='r2',cv=3,n_jobs=-1)\n",
    "plot_learning_curve(train_sizes,train_scores,test_scores)"
   ]
  },
  {
   "cell_type": "code",
   "execution_count": null,
   "metadata": {
    "scrolled": true
   },
   "outputs": [],
   "source": [
    "fig,ax = plt.subplots(figsize=(20,10))\n",
    "rfFeatImportances = dict(sorted(zip(list(X5.columns),rfr.feature_importances_),key=lambda k: k[1]))\n",
    "plt.barh(list(rfFeatImportances.keys()),rfFeatImportances.values())"
   ]
  },
  {
   "cell_type": "code",
   "execution_count": null,
   "metadata": {},
   "outputs": [],
   "source": [
    "df2.corrwith(y2,method='spearman').abs().sort_values(ascending=False)"
   ]
  },
  {
   "cell_type": "code",
   "execution_count": null,
   "metadata": {},
   "outputs": [],
   "source": [
    "#https://www.kaggle.com/rafjaa/resampling-strategies-for-imbalanced-datasets\n",
    "#https://www.tensorflow.org/tutorials/structured_data/imbalanced_data\n",
    "#https://www.kaggle.com/currie32/predicting-fraud-with-tensorflow\n",
    "#https://www.kaggle.com/pavansanagapati/anomaly-detection-credit-card-fraud-analysis\n",
    "#https://www.kaggle.com/joparga3/in-depth-skewed-data-classif-93-recall-acc-now\n",
    "#https://www.kaggle.com/joparga3/in-depth-skewed-data-classif-93-recall-acc-now#Logistic-regression-classifier---Skewed-data\n",
    "#https://www.kaggle.com/nschneider/gbm-vs-xgboost-vs-lightgbm\n",
    "#https://www.kaggle.com/gargmanish/how-to-handle-imbalance-data-study-in-detail\n",
    "#https://www.kaggle.com/lct14558/imbalanced-data-why-you-should-not-use-roc-curve#Credit-Card-Fraud:-Handling-highly-imbalance-classes-and-why-Receiver-Operating-Characteristics-Curve-(ROC-Curve)-should-not-be-used,-and-Precision/Recall-curve-should-be-preferred-in-highly-imbalanced-situations\n",
    "#Tobit\n",
    "#validation_curve\n",
    "#https://www.kaggle.com/janiobachmann/credit-fraud-dealing-with-imbalanced-datasets\n",
    "\n",
    "#Survival Analysis, Cox model\n",
    "\n",
    "#Gamma distribution, tweedie\n",
    "\n",
    "#https://www.ibm.com/support/knowledgecenter/en/SS3RA7_17.0.0/spss/tutorials/genlin_car-ins_intro.html\n",
    "#https://arxiv.org/pdf/1711.08695.pdf\n",
    "\n",
    "#https://www.kaggle.com/c/porto-seguro-safe-driver-prediction/discussion/44608\n",
    "\n",
    "#https://www.kaggle.com/c/porto-seguro-safe-driver-prediction/discussion/44558\n",
    "\n",
    "#https://www.kaggle.com/c/porto-seguro-safe-driver-prediction/discussion/44629\n",
    "\n",
    "#https://www.kaggle.com/c/porto-seguro-safe-driver-prediction/discussion/42197\n",
    "\n",
    "#https://arxiv.org/pdf/1904.10890.pdf\n",
    "\n",
    "#https://nycdatascience.com/blog/student-works/predicting-insurance-claim-severity/\n",
    "\n",
    "#https://nycdatascience.com/blog/student-works/predicting-insurance-claim-severity/\n",
    "\n",
    "#https://www.kaggle.com/c/ClaimPredictionChallenge/discussion?sortBy=active&group=all&page=1&pageSize=20&category=all"
   ]
  },
  {
   "cell_type": "code",
   "execution_count": null,
   "metadata": {
    "scrolled": true
   },
   "outputs": [],
   "source": [
    "from scipy import stats\n",
    "sns.distplot(np.log(y2[y2>0]),fit=stats.norm)"
   ]
  },
  {
   "cell_type": "code",
   "execution_count": null,
   "metadata": {},
   "outputs": [],
   "source": [
    "pip install lightgbm"
   ]
  },
  {
   "cell_type": "code",
   "execution_count": null,
   "metadata": {},
   "outputs": [],
   "source": []
  }
 ],
 "metadata": {
  "kernelspec": {
   "display_name": "Python 3",
   "language": "python",
   "name": "python3"
  },
  "language_info": {
   "codemirror_mode": {
    "name": "ipython",
    "version": 3
   },
   "file_extension": ".py",
   "mimetype": "text/x-python",
   "name": "python",
   "nbconvert_exporter": "python",
   "pygments_lexer": "ipython3",
   "version": "3.7.4"
  }
 },
 "nbformat": 4,
 "nbformat_minor": 2
}
